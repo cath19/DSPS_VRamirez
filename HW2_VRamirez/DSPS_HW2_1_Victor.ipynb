{
  "nbformat": 4,
  "nbformat_minor": 0,
  "metadata": {
    "colab": {
      "name": "DSPS_HW2_1 Victor",
      "version": "0.3.2",
      "provenance": [],
      "collapsed_sections": [],
      "include_colab_link": true
    },
    "kernelspec": {
      "display_name": "Python 3",
      "language": "python",
      "name": "python3"
    },
    "language_info": {
      "codemirror_mode": {
        "name": "ipython",
        "version": 3
      },
      "file_extension": ".py",
      "mimetype": "text/x-python",
      "name": "python",
      "nbconvert_exporter": "python",
      "pygments_lexer": "ipython3",
      "version": "3.7.3"
    },
    "latex_envs": {
      "LaTeX_envs_menu_present": true,
      "autoclose": false,
      "autocomplete": true,
      "bibliofile": "biblio.bib",
      "cite_by": "apalike",
      "current_citInitial": 1,
      "eqLabelWithNumbers": true,
      "eqNumInitial": 1,
      "hotkeys": {
        "equation": "Ctrl-E",
        "itemize": "Ctrl-I"
      },
      "labels_anchors": false,
      "latex_user_defs": false,
      "report_style_numbering": false,
      "user_envs_cfg": false
    },
    "nbTranslate": {
      "displayLangs": [
        "*"
      ],
      "hotkey": "alt-t",
      "langInMainMenu": true,
      "sourceLang": "en",
      "targetLang": "fr",
      "useGoogleTranslate": true
    },
    "toc": {
      "base_numbering": 1,
      "nav_menu": {},
      "number_sections": true,
      "sideBar": true,
      "skip_h1_title": false,
      "title_cell": "Table of Contents",
      "title_sidebar": "Contents",
      "toc_cell": false,
      "toc_position": {},
      "toc_section_display": true,
      "toc_window_display": false
    }
  },
  "cells": [
    {
      "cell_type": "markdown",
      "metadata": {
        "id": "view-in-github",
        "colab_type": "text"
      },
      "source": [
        "<a href=\"https://colab.research.google.com/github/vicaleram/DSPS_VRamirez/blob/master/DSPS_HW2_1_Victor.ipynb\" target=\"_parent\"><img src=\"https://colab.research.google.com/assets/colab-badge.svg\" alt=\"Open In Colab\"/></a>"
      ]
    },
    {
      "cell_type": "markdown",
      "metadata": {
        "ExecuteTime": {
          "end_time": "2019-09-04T04:50:01.872913Z",
          "start_time": "2019-09-04T04:50:01.869703Z"
        },
        "id": "zHQ3z4R_NQJZ",
        "colab_type": "text"
      },
      "source": [
        " Written by Federica B. Bianco @fedhere\n",
        "UDel DSPS 2019"
      ]
    },
    {
      "cell_type": "code",
      "metadata": {
        "ExecuteTime": {
          "end_time": "2019-09-07T17:36:53.625807Z",
          "start_time": "2019-09-07T17:36:53.393906Z"
        },
        "colab_type": "code",
        "id": "iQaonMUBqtX2",
        "outputId": "da55c562-7fa2-4972-8fcd-b0a55fb121ea",
        "colab": {
          "base_uri": "https://localhost:8080/",
          "height": 35
        }
      },
      "source": [
        "from __future__ import print_function, division\n",
        "import numpy as np\n",
        "import scipy as sp\n",
        "from scipy import stats\n",
        "import pylab as pl\n",
        "%pylab inline\n",
        "pl.style.use(\"https://raw.githubusercontent.com/fedhere/DSPS/master/fbb.mplstyle\")\n"
      ],
      "execution_count": 0,
      "outputs": [
        {
          "output_type": "stream",
          "text": [
            "Populating the interactive namespace from numpy and matplotlib\n"
          ],
          "name": "stdout"
        }
      ]
    },
    {
      "cell_type": "markdown",
      "metadata": {
        "colab_type": "text",
        "id": "zu5QKDi5b7vW"
      },
      "source": [
        "# Homework 1: Maxwell Boltzmann distribution"
      ]
    },
    {
      "cell_type": "markdown",
      "metadata": {
        "colab_type": "text",
        "id": "ueaB0mHCO_iM"
      },
      "source": [
        "In Physics, statistics can help us describe the macroscopic behavior of a system if we know its microscopic properties in a statistical sense. We cannot know the motion of each molecule in a gas, but we can know the distribution of their velocities and positions.   In the mid to late 1800s, James Clerk Maxwell and Ludwig Boltzmann modeled the *distribution of speed of molecules in a gas*. As you probably know, and can intuitive realize, the speed of the molecules depends on the temperature of the gas, which is a macroscopic property, i.e. the velocity of the molecules is different for different gas temperatures. **This distribution is called the Maxwell-Boltzmann distribution.**\n"
      ]
    },
    {
      "cell_type": "markdown",
      "metadata": {
        "colab_type": "text",
        "id": "7LpR51uQSvN9"
      },
      "source": [
        "It turns out that the Maxwel-Boltzmann distribution is a special case of the *Chi distribution* with 3 degrees of freedom, and with a scale parameter corresponding to the temperature in some way. "
      ]
    },
    {
      "cell_type": "markdown",
      "metadata": {
        "colab_type": "text",
        "id": "Pc25lN9SUxQL"
      },
      "source": [
        "Below I have created 3 distributions. Based on the description above\n",
        "\n",
        "\n",
        "# 1) label the axis in the plot, "
      ]
    },
    {
      "cell_type": "code",
      "metadata": {
        "ExecuteTime": {
          "end_time": "2019-09-07T17:36:56.493299Z",
          "start_time": "2019-09-07T17:36:56.021862Z"
        },
        "colab_type": "code",
        "id": "LZm2afzhUwuG",
        "outputId": "16d09ba8-6b82-4554-8c70-e7ea695a6c56",
        "colab": {
          "base_uri": "https://localhost:8080/",
          "height": 324
        }
      },
      "source": [
        "np.random.randn(123)\n",
        "fig, ax = pl.subplots()\n",
        "for a in [0.2, 0.6, 1.0]:\n",
        "    ax.hist(sp.stats.chi.rvs(df=3, scale=a, size=1000), # could as well be sp.stats.maxwell.rvs(scale=a, size=1000)\n",
        "          bins=np.arange(0,5,0.1), alpha=0.7,\n",
        "       label=\"a = %.1f\"%a);\n",
        "\n",
        "pl.legend();\n",
        "\n",
        "pl.legend()\n",
        "pl.xlabel('Speed')\n",
        "pl.ylabel('Number of Particles')\n",
        "pl.title('Maxwell-Boltzmann Distribution')"
      ],
      "execution_count": 0,
      "outputs": [
        {
          "output_type": "execute_result",
          "data": {
            "text/plain": [
              "Text(0.5, 1.0, 'Maxwell-Boltzmann Distribution')"
            ]
          },
          "metadata": {
            "tags": []
          },
          "execution_count": 5
        },
        {
          "output_type": "display_data",
          "data": {
            "image/png": "[encoded data removed]",
            "text/plain": [
              "<Figure size 432x288 with 1 Axes>"
            ]
          },
          "metadata": {
            "tags": []
          }
        }
      ]
    },
    {
      "cell_type": "markdown",
      "metadata": {
        "id": "FuVFJ0HmWya8",
        "colab_type": "text"
      },
      "source": [
        "### Fig 1: Graph representing the Maxwell-Boltzman Distribution, based on the speed of the Particles and the Number of particles. Each of the color histograms represents the degrees of freedom, being the blue histogram one degree of freedom, the yellow one the second degree of freedom and the green histogram is the third degree of freedom."
      ]
    },
    {
      "cell_type": "markdown",
      "metadata": {
        "colab_type": "text",
        "id": "MGdILsLAaopl"
      },
      "source": [
        "# 2) knowing that the *scale* parameter $a$  is a function of the temperature  *T*, and that the dependency is to a power 1/2, which is correct: \n",
        "   **$a \\propto \\sqrt{T}$**  or **$a \\propto \\sqrt{1/T}$**? \n",
        " "
      ]
    },
    {
      "cell_type": "markdown",
      "metadata": {
        "colab_type": "text",
        "id": "vMGhorbvcrFM"
      },
      "source": [
        "### Your answer here: The relation goes as a∝T^1/2 because the scale parameter increases as the velocity increases, which is dependent on the Temperature."
      ]
    },
    {
      "cell_type": "markdown",
      "metadata": {
        "colab_type": "text",
        "id": "hGeeXYttXLO1"
      },
      "source": [
        "\n",
        "# 3) What is the mean of all three distributions. How does it compare to the most probable molecular speed? \n",
        "From the wikipedia page of the Chi distribution find the formula of the mean of the Chi distribution. The distribution we are using has a scale parameter *a* in addition to the number of degrees of freedom. The mean scales linearly with this parameter:\n",
        "\n",
        "$\\mu_{\\mathrm{MB}, k, a} = a \\cdot \\mu_{\\mathrm{chi}, k}$\n",
        "\n",
        "Using the scipy function ```sp.special.gamma()```  calculate the gamma $\\Gamma$ function,\n",
        "\n",
        "**calculate the mean of all three distributions. How does it compare to the most probable molecular speed.**"
      ]
    },
    {
      "cell_type": "code",
      "metadata": {
        "ExecuteTime": {
          "end_time": "2019-09-07T17:36:59.245480Z",
          "start_time": "2019-09-07T17:36:59.243338Z"
        },
        "colab_type": "code",
        "id": "-8htAA4mRAVa",
        "outputId": "a224a791-46ff-4db2-dcb6-a1169a586886",
        "colab": {
          "base_uri": "https://localhost:8080/",
          "height": 35
        }
      },
      "source": [
        "k= 3\n",
        "mean = np.sqrt(2)*(sp.special.gamma((k+1)/2))/(sp.special.gamma(k/2))\n",
        "means = []\n",
        "for a in [0.2, 0.6, 1.0]:\n",
        "    means.append( a* mean)\n",
        "    \n",
        "print(\"The mean of the distributions are: a1=\", round(means[0],2), \"a2=\", round(means[1],2), \"a3\", round(means[2],3))"
      ],
      "execution_count": 0,
      "outputs": [
        {
          "output_type": "stream",
          "text": [
            "The mean of the distributions are: a1= 0.32 a2= 0.96 a3 1.596\n"
          ],
          "name": "stdout"
        }
      ]
    },
    {
      "cell_type": "markdown",
      "metadata": {
        "id": "FrZPvrjXTvOy",
        "colab_type": "text"
      },
      "source": [
        ""
      ]
    },
    {
      "cell_type": "markdown",
      "metadata": {
        "colab_type": "text",
        "id": "r7oes80EQER-"
      },
      "source": [
        "This really only holds for perfect gasses, which means under 4 assumptions: \n",
        "- the diameter of the molecules is much smaller than the distance between them\n",
        "- the collisions between molecules conserve energy\n",
        "- the molecules do not interact between collisions and are not subject to any other forces (move at constant speed in a straight line)\n",
        "- the initial position and velocity are random."
      ]
    }
  ]
}
