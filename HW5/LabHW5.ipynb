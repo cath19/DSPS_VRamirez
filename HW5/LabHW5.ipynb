{
  "nbformat": 4,
  "nbformat_minor": 0,
  "metadata": {
    "colab": {
      "name": "LabHW5.ipynb",
      "provenance": [],
      "collapsed_sections": [],
      "include_colab_link": true
    },
    "kernelspec": {
      "name": "python3",
      "display_name": "Python 3"
    }
  },
  "cells": [
    {
      "cell_type": "markdown",
      "metadata": {
        "id": "view-in-github",
        "colab_type": "text"
      },
      "source": [
        "<a href=\"https://colab.research.google.com/github/vicaleram/DSPS_VRamirez/blob/master/HW5/LabHW5.ipynb\" target=\"_parent\"><img src=\"https://colab.research.google.com/assets/colab-badge.svg\" alt=\"Open In Colab\"/></a>"
      ]
    },
    {
      "cell_type": "code",
      "metadata": {
        "id": "5M3xEGaQ1mDX",
        "colab_type": "code",
        "outputId": "66def3f3-ffeb-4300-840d-8d68157534b8",
        "colab": {
          "base_uri": "https://localhost:8080/",
          "height": 124
        }
      },
      "source": [
        "from google.colab import drive\n",
        "drive.mount( '/content/drive')"
      ],
      "execution_count": 1,
      "outputs": [
        {
          "output_type": "stream",
          "text": [
            "Go to this URL in a browser: https://accounts.google.com/o/oauth2/auth?client_id=947318989803-6bn6qk8qdgf4n4g3pfee6491hc0brc4i.apps.googleusercontent.com&redirect_uri=urn%3Aietf%3Awg%3Aoauth%3A2.0%3Aoob&scope=email%20https%3A%2F%2Fwww.googleapis.com%2Fauth%2Fdocs.test%20https%3A%2F%2Fwww.googleapis.com%2Fauth%2Fdrive%20https%3A%2F%2Fwww.googleapis.com%2Fauth%2Fdrive.photos.readonly%20https%3A%2F%2Fwww.googleapis.com%2Fauth%2Fpeopleapi.readonly&response_type=code\n",
            "\n",
            "Enter your authorization code:\n",
            "··········\n",
            "Mounted at /content/drive\n"
          ],
          "name": "stdout"
        }
      ]
    },
    {
      "cell_type": "code",
      "metadata": {
        "id": "9Cnv_Ich3aD1",
        "colab_type": "code",
        "outputId": "1aa0c78b-589b-4af7-c118-e91cd091da8b",
        "colab": {
          "base_uri": "https://localhost:8080/",
          "height": 35
        }
      },
      "source": [
        "ls "
      ],
      "execution_count": 0,
      "outputs": [
        {
          "output_type": "stream",
          "text": [
            " \u001b[0m\u001b[01;34mdrive\u001b[0m/   \u001b[01;34msample_data\u001b[0m/  'zbp16totals.zip?'\n"
          ],
          "name": "stdout"
        }
      ]
    },
    {
      "cell_type": "code",
      "metadata": {
        "id": "ymkD9wrfGljV",
        "colab_type": "code",
        "outputId": "fc71302e-74f6-44f6-a2f7-7b95faf4f448",
        "colab": {
          "base_uri": "https://localhost:8080/",
          "height": 35
        }
      },
      "source": [
        "pwd "
      ],
      "execution_count": 0,
      "outputs": [
        {
          "output_type": "execute_result",
          "data": {
            "text/plain": [
              "'/content'"
            ]
          },
          "metadata": {
            "tags": []
          },
          "execution_count": 12
        }
      ]
    },
    {
      "cell_type": "code",
      "metadata": {
        "id": "2QGf9Kos3nAi",
        "colab_type": "code",
        "outputId": "c8d0b8a9-3222-4354-8e43-9bf657b40564",
        "colab": {
          "base_uri": "https://localhost:8080/",
          "height": 572
        }
      },
      "source": [
        "ls \"drive/My Drive\""
      ],
      "execution_count": 0,
      "outputs": [
        {
          "output_type": "stream",
          "text": [
            "'2014 The Confrontation between General Relativity and Experiment.pdf'\n",
            "'3B 1:1 Schedule.gsheet'\n",
            " 8CF1C0D6-DDA7-4BFD-8203-C5C4FE09149E.png\n",
            "\u001b[0m\u001b[01;34m'Anyfile Notepad Files'\u001b[0m/\n",
            "\u001b[01;34m'Colab Notebooks'\u001b[0m/\n",
            "'Delegation Presentation.gslides'\n",
            " E322FCD8-361B-4748-9870-866CEECE6D02.png\n",
            " \u001b[01;34mEBSCO\u001b[0m/\n",
            "'Exoplanet Transit Simulator.gdoc'\n",
            " friction.xlsx\n",
            " friction.xlsx.gsheet\n",
            "'Getting started.pdf'\n",
            " Kapteyn_quasi_joint-copy.ipynb\n",
            "'Lab 1.gdoc'\n",
            "'Lab 2.gdoc'\n",
            "'Lab 4.gdoc'\n",
            "'Lab 8.gdoc'\n",
            "'LEAD Presentation info.gdoc'\n",
            "'League of Nations Background Guide.gdoc'\n",
            " lesson1.ipynb\n",
            "'New Recording 2.m4a'\n",
            "'physics lab 3.xlsx.gsheet'\n",
            " planets_starspots.ipynb\n",
            "\u001b[01;34m'Radio Jove '\u001b[0m/\n",
            "'Schedule for 1:1s.gsheet'\n",
            "'Spring RA Catch Ups schedule.gsheet'\n",
            "'Teach your passion.gslides'\n",
            "'Teach your Strenght.gslides'\n",
            " \u001b[01;34mtest_dir\u001b[0m/\n",
            "'The Brick.gdoc'\n",
            "'udsc fall 2018 heat sheet v8.pdf'\n",
            "'Untitled document.gdoc'\n"
          ],
          "name": "stdout"
        }
      ]
    },
    {
      "cell_type": "code",
      "metadata": {
        "id": "2_hhfsOS4ilx",
        "colab_type": "code",
        "outputId": "75d630d9-8d49-4e0e-ae0b-b81816ad707c",
        "colab": {
          "base_uri": "https://localhost:8080/",
          "height": 35
        }
      },
      "source": [
        "mkdir \"drive/My Drive/test_dir\""
      ],
      "execution_count": 0,
      "outputs": [
        {
          "output_type": "stream",
          "text": [
            "mkdir: cannot create directory ‘drive/My Drive/test_dir’: File exists\n"
          ],
          "name": "stdout"
        }
      ]
    },
    {
      "cell_type": "code",
      "metadata": {
        "id": "MAckPUVI4vA0",
        "colab_type": "code",
        "outputId": "ae02b79f-b49f-41dc-b696-4ddf9832fa56",
        "colab": {
          "base_uri": "https://localhost:8080/",
          "height": 572
        }
      },
      "source": [
        "ls \"drive/My Drive\""
      ],
      "execution_count": 0,
      "outputs": [
        {
          "output_type": "stream",
          "text": [
            "'2014 The Confrontation between General Relativity and Experiment.pdf'\n",
            "'3B 1:1 Schedule.gsheet'\n",
            " 8CF1C0D6-DDA7-4BFD-8203-C5C4FE09149E.png\n",
            "\u001b[0m\u001b[01;34m'Anyfile Notepad Files'\u001b[0m/\n",
            "\u001b[01;34m'Colab Notebooks'\u001b[0m/\n",
            "'Delegation Presentation.gslides'\n",
            " E322FCD8-361B-4748-9870-866CEECE6D02.png\n",
            " \u001b[01;34mEBSCO\u001b[0m/\n",
            "'Exoplanet Transit Simulator.gdoc'\n",
            " friction.xlsx\n",
            " friction.xlsx.gsheet\n",
            "'Getting started.pdf'\n",
            " Kapteyn_quasi_joint-copy.ipynb\n",
            "'Lab 1.gdoc'\n",
            "'Lab 2.gdoc'\n",
            "'Lab 4.gdoc'\n",
            "'Lab 8.gdoc'\n",
            "'LEAD Presentation info.gdoc'\n",
            "'League of Nations Background Guide.gdoc'\n",
            " lesson1.ipynb\n",
            "'New Recording 2.m4a'\n",
            "'physics lab 3.xlsx.gsheet'\n",
            " planets_starspots.ipynb\n",
            "\u001b[01;34m'Radio Jove '\u001b[0m/\n",
            "'Schedule for 1:1s.gsheet'\n",
            "'Spring RA Catch Ups schedule.gsheet'\n",
            "'Teach your passion.gslides'\n",
            "'Teach your Strenght.gslides'\n",
            " \u001b[01;34mtest_dir\u001b[0m/\n",
            "'The Brick.gdoc'\n",
            "'udsc fall 2018 heat sheet v8.pdf'\n",
            "'Untitled document.gdoc'\n"
          ],
          "name": "stdout"
        }
      ]
    },
    {
      "cell_type": "code",
      "metadata": {
        "id": "qoVBRavk40dU",
        "colab_type": "code",
        "outputId": "efe1a4b8-32cb-4ca6-e388-441ffdf08dc1",
        "colab": {
          "base_uri": "https://localhost:8080/",
          "height": 35
        }
      },
      "source": [
        "mv \"drive/My Drive/physics lab 3.xlsx\" \"drive/My Drive/test_dir\""
      ],
      "execution_count": 0,
      "outputs": [
        {
          "output_type": "stream",
          "text": [
            "mv: cannot stat 'drive/My Drive/physics lab 3.xlsx': No such file or directory\n"
          ],
          "name": "stdout"
        }
      ]
    },
    {
      "cell_type": "code",
      "metadata": {
        "id": "69yj0iJf5GCn",
        "colab_type": "code",
        "outputId": "f0467ee5-f929-4825-87f3-3268ca245b3e",
        "colab": {
          "base_uri": "https://localhost:8080/",
          "height": 208
        }
      },
      "source": [
        "!wget https://www2.census.gov/programs-surveys/cbp/datasets/2016/zbp16totals.zip"
      ],
      "execution_count": 0,
      "outputs": [
        {
          "output_type": "stream",
          "text": [
            "--2019-09-25 20:30:27--  https://www2.census.gov/programs-surveys/cbp/datasets/2016/zbp16totals.zip\n",
            "Resolving www2.census.gov (www2.census.gov)... 23.44.160.119, 2600:1409:12:392::208c, 2600:1409:12:3a2::208c\n",
            "Connecting to www2.census.gov (www2.census.gov)|23.44.160.119|:443... connected.\n",
            "HTTP request sent, awaiting response... 200 OK\n",
            "Length: unspecified [application/zip]\n",
            "Saving to: ‘zbp16totals.zip’\n",
            "\n",
            "\rzbp16totals.zip         [<=>                 ]       0  --.-KB/s               \rzbp16totals.zip         [ <=>                ] 750.30K  --.-KB/s    in 0.1s    \n",
            "\n",
            "2019-09-25 20:30:27 (6.50 MB/s) - ‘zbp16totals.zip’ saved [768303]\n",
            "\n"
          ],
          "name": "stdout"
        }
      ]
    },
    {
      "cell_type": "code",
      "metadata": {
        "id": "Ff3CBqx35h9S",
        "colab_type": "code",
        "outputId": "fd7acd66-349c-4c56-9924-f1c0ca154c40",
        "colab": {
          "base_uri": "https://localhost:8080/",
          "height": 35
        }
      },
      "source": [
        "ls"
      ],
      "execution_count": 0,
      "outputs": [
        {
          "output_type": "stream",
          "text": [
            " \u001b[0m\u001b[01;34mdrive\u001b[0m/   \u001b[01;34msample_data\u001b[0m/   zbp16totals.zip  'zbp16totals.zip?'\n"
          ],
          "name": "stdout"
        }
      ]
    },
    {
      "cell_type": "code",
      "metadata": {
        "id": "nsoPQg0f5lIN",
        "colab_type": "code",
        "outputId": "86e07f08-b9b6-41c4-d286-656dea6a8a6b",
        "colab": {
          "base_uri": "https://localhost:8080/",
          "height": 52
        }
      },
      "source": [
        "!unzip zbp16totals.zip -d \"drive/My Drive/test_dir\""
      ],
      "execution_count": 0,
      "outputs": [
        {
          "output_type": "stream",
          "text": [
            "Archive:  zbp16totals.zip\n",
            "  inflating: drive/My Drive/test_dir/zbp16totals.txt  \n"
          ],
          "name": "stdout"
        }
      ]
    },
    {
      "cell_type": "code",
      "metadata": {
        "id": "dU4jP0tBHciK",
        "colab_type": "code",
        "colab": {}
      },
      "source": [
        "import os"
      ],
      "execution_count": 0,
      "outputs": []
    },
    {
      "cell_type": "code",
      "metadata": {
        "id": "tlyh4BYZCVwU",
        "colab_type": "code",
        "colab": {
          "base_uri": "https://localhost:8080/",
          "height": 35
        },
        "outputId": "65eb107a-83a0-4c29-bf8b-fde678cdc0bc"
      },
      "source": [
        "ls \"drive/My Drive/test_dir\""
      ],
      "execution_count": 3,
      "outputs": [
        {
          "output_type": "stream",
          "text": [
            "'physics lab 3.xlsx'   zbp16totals.txt\n"
          ],
          "name": "stdout"
        }
      ]
    },
    {
      "cell_type": "code",
      "metadata": {
        "id": "Y_HrWL7XCYgt",
        "colab_type": "code",
        "colab": {
          "base_uri": "https://localhost:8080/",
          "height": 35
        },
        "outputId": "a1c8a0f6-8ace-4742-949c-41b22f431758"
      },
      "source": [
        "cmd = \"rm -r drive/My Drive/test_dir\"\n",
        "os.system(cmd)"
      ],
      "execution_count": 11,
      "outputs": [
        {
          "output_type": "execute_result",
          "data": {
            "text/plain": [
              "256"
            ]
          },
          "metadata": {
            "tags": []
          },
          "execution_count": 11
        }
      ]
    },
    {
      "cell_type": "code",
      "metadata": {
        "id": "y1PYnbrtYnpk",
        "colab_type": "code",
        "colab": {}
      },
      "source": [
        "mkdir \"drive/My Drive/test_dir/zbp\""
      ],
      "execution_count": 0,
      "outputs": []
    },
    {
      "cell_type": "code",
      "metadata": {
        "id": "w6-NMWMuCfHM",
        "colab_type": "code",
        "colab": {}
      },
      "source": [
        "import glob\n",
        "if len(glob.glob(\"drive/My Drive/dsps2019\")) == 0:\n",
        "  os.system(\"mkdir drive/My\\ Drive/dsps2019\")"
      ],
      "execution_count": 0,
      "outputs": []
    },
    {
      "cell_type": "code",
      "metadata": {
        "id": "b81nanquH4AW",
        "colab_type": "code",
        "colab": {
          "base_uri": "https://localhost:8080/",
          "height": 451
        },
        "outputId": "39ddbb8d-ac63-43db-ca58-0dee80097845"
      },
      "source": [
        "path = \"drive/My Drive/test_dir/zbp\"\n",
        "res = os.system(\"mkdir \" + path.replace(\" \",\"// \"))\n",
        "\n",
        "\n",
        "  \n",
        "for ii in range(10,15):\n",
        "  \n",
        "  snum = str(ii)\n",
        "  \n",
        "  #making the form for the three commands in advance saves me typing later\n",
        "  cmd_wget = \"wget https://www2.census.gov/programs-surveys/cbp/datasets/\" +\\\n",
        "  \"20{0}/zbp{0}detail.zip\".format(ii)\n",
        "  \n",
        "  cmd_unzip = \"unzip {} -d {}\".format(cmd_wget.split(\"/\")[-1], path.replace(\" \",\"\\\\ \"))\n",
        "  print(cmd_unzip)\n",
        "  \n",
        "  cmd_rm = \"rm {} \".format(\"zbp{0}detail.zip\".format(ii))\n",
        "  print(cmd_rm)\n",
        "  \n",
        "  print(\"downloading year 20{}\".format(snum))\n",
        "  \n",
        "  #here is where we start running the commands\n",
        "  res = os.system(cmd_wget)\n",
        "  if res != 0:\n",
        "    print(\"error: \", res, \"with downloading\", ii)\n",
        "  \n",
        "  print(\"moving file and unzipping file from year 20{}\".format(snum))\n",
        "  \n",
        "  res = os.system(cmd_unzip)\n",
        "  if res != 0:\n",
        "    print(\"error: \", res, \"with unzipping\", ii)\n",
        "    \n",
        "  print(\"removing zip file from year 20{}\".format(snum))\n",
        "  \n",
        "  res = os.system(cmd_rm)\n",
        "  if res != 0:\n",
        "    print(\"error: \", res, \"with removing\", ii)"
      ],
      "execution_count": 18,
      "outputs": [
        {
          "output_type": "stream",
          "text": [
            "unzip zbp10detail.zip -d drive/My\\ Drive/test_dir/zbp\n",
            "rm zbp10detail.zip \n",
            "downloading year 2010\n",
            "moving file and unzipping file from year 2010\n",
            "removing zip file from year 2010\n",
            "unzip zbp11detail.zip -d drive/My\\ Drive/test_dir/zbp\n",
            "rm zbp11detail.zip \n",
            "downloading year 2011\n",
            "moving file and unzipping file from year 2011\n",
            "removing zip file from year 2011\n",
            "unzip zbp12detail.zip -d drive/My\\ Drive/test_dir/zbp\n",
            "rm zbp12detail.zip \n",
            "downloading year 2012\n",
            "moving file and unzipping file from year 2012\n",
            "removing zip file from year 2012\n",
            "unzip zbp13detail.zip -d drive/My\\ Drive/test_dir/zbp\n",
            "rm zbp13detail.zip \n",
            "downloading year 2013\n",
            "moving file and unzipping file from year 2013\n",
            "removing zip file from year 2013\n",
            "unzip zbp14detail.zip -d drive/My\\ Drive/test_dir/zbp\n",
            "rm zbp14detail.zip \n",
            "downloading year 2014\n",
            "moving file and unzipping file from year 2014\n",
            "removing zip file from year 2014\n"
          ],
          "name": "stdout"
        }
      ]
    },
    {
      "cell_type": "code",
      "metadata": {
        "id": "u4JebFSeZTZc",
        "colab_type": "code",
        "colab": {
          "base_uri": "https://localhost:8080/",
          "height": 52
        },
        "outputId": "52ccca6f-40d4-41d3-c8ba-24feb11ad0ed"
      },
      "source": [
        "ls drive/My\\ Drive/test_dir/zbp"
      ],
      "execution_count": 19,
      "outputs": [
        {
          "output_type": "stream",
          "text": [
            "zbp10detail.txt  zbp12detail.txt  zbp14detail.txt\n",
            "zbp11detail.txt  zbp13detail.txt\n"
          ],
          "name": "stdout"
        }
      ]
    }
  ]
}