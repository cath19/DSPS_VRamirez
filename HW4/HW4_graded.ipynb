{
 "cells": [
  {
   "cell_type": "markdown",
   "metadata": {
    "colab_type": "text",
    "id": "view-in-github"
   },
   "source": [
    "<a href=\"https://colab.research.google.com/github/vicaleram/DSPS_VRamirez/blob/master/HW4/DarkMatter_VRamirez.ipynb\" target=\"_parent\"><img src=\"https://colab.research.google.com/assets/colab-badge.svg\" alt=\"Open In Colab\"/></a>"
   ]
  },
  {
   "cell_type": "markdown",
   "metadata": {
    "colab_type": "text",
    "id": "rxa6Xa3jOdCI",
    "run_control": {
     "frozen": false,
     "read_only": false
    }
   },
   "source": [
    "prepared by federica b bianco @fedhere\n",
    "for UDel DSPS PHYS 467/667\n",
    "\n",
    "# testing the significance of Dark Matter"
   ]
  },
  {
   "cell_type": "code",
   "execution_count": 1,
   "metadata": {
    "ExecuteTime": {
     "end_time": "2019-09-16T17:54:57.244596Z",
     "start_time": "2019-09-16T17:54:57.231090Z"
    },
    "colab": {
     "base_uri": "https://localhost:8080/",
     "height": 35
    },
    "colab_type": "code",
    "id": "Ya2RaOGbOdCJ",
    "outputId": "d2a21c96-5dce-4216-a748-9cd06d1c3f20",
    "run_control": {
     "frozen": false,
     "read_only": false
    }
   },
   "outputs": [
    {
     "name": "stdout",
     "output_type": "stream",
     "text": [
      "Populating the interactive namespace from numpy and matplotlib\n"
     ]
    }
   ],
   "source": [
    "import pandas as pd\n",
    "import numpy as np\n",
    "import pylab as pl\n",
    "%pylab inline\n",
    "\n",
    "\n",
    "#package I will use for constants and units conversion \n",
    "import astropy\n",
    "\n"
   ]
  },
  {
   "cell_type": "markdown",
   "metadata": {
    "colab_type": "text",
    "id": "4qp8A2TG1Gwb",
    "run_control": {
     "frozen": false,
     "read_only": false
    }
   },
   "source": [
    "In 1970 Vera Rubin published a seminal paper: she measured the rotational speed of HII regions in several galaxies and how it changed as a function of distance to the center of the galaxy. If we believe Newtonian gravity (or GR) we expect that _once all of the mass is included_, i.e. at a radius distance from the center of the galaxy larger than the radius of the galaxy itself, the rotational speed will be proportional to $v\\propto\\frac{1}{r}$"
   ]
  },
  {
   "cell_type": "markdown",
   "metadata": {
    "colab_type": "text",
    "id": "j-BDrNseOdCR",
    "run_control": {
     "frozen": false,
     "read_only": false
    }
   },
   "source": [
    "## Propagation of  uncertainties rules\n",
    "\n",
    "below are the basic rules for propagation of uncertainties - use [this as reference](https://github.com/fedhere/DSPS/blob/master/resources/Managing%20Errors%20and%20Uncertainty.pdf)"
   ]
  },
  {
   "cell_type": "markdown",
   "metadata": {
    "colab_type": "text",
    "id": "iCrFipBzOzqp",
    "run_control": {
     "frozen": false,
     "read_only": false
    }
   },
   "source": [
    "\n",
    "\n",
    "\n",
    "$$\n",
    "\\begin{eqnarray}\n",
    "z = x  \\pm y  ~| & ~  &dz = \\sqrt{dx^2 + dy^2} \n",
    "\\\\\n",
    "z = x * y  ~| & ~& dz = |xy|  \\sqrt{\\left(\\frac{dx}{x}\\right)^2 + \n",
    "                                \\left(\\frac{dy}{y}\\right)^2} \\\\\n",
    "z = x / y  ~| & ~& dz = \\left|\\frac{x}{y}\\right| \\sqrt{\\left(\\frac{dx}{x}\\right)^2 + \n",
    "                                                   \\left(\\frac{dy}{y}\\right)^2} \\\\\n",
    "z = x^n ~| & ~& dz = |n| ~ x^{n-1}  dx \\\\\n",
    "z = \\mathrm{c}x ~| & ~& dz = |\\mathrm{c}| ~dx \\\\\n",
    "z = f(x, y) ~| & ~& dz = \\sqrt{\\left(\\frac{\\partial f}{\\partial x}\\right)^2 dx^2 +\\left(\\frac{\\partial f}{\\partial y}\\right)^2 dy^2} \\\\\n",
    "\\end{eqnarray}\n",
    "$$\n"
   ]
  },
  {
   "cell_type": "markdown",
   "metadata": {
    "colab_type": "text",
    "id": "WcF0zlWCOdCX",
    "run_control": {
     "frozen": false,
     "read_only": false
    }
   },
   "source": [
    "# let's assume a Newtonian framework: \n",
    "the velocity of a body in orbit depends only on the gravitational field of the mass that attracts it, and we can assume that mass is concentrated in the center of mass of (the center for simplicity) the system\n",
    "\n",
    "with G the gravitational constant, $r$ the radius, and $m(r)$ the mass contained within that radius we have the orbital velocity $v$:\n"
   ]
  },
  {
   "cell_type": "markdown",
   "metadata": {
    "colab_type": "text",
    "id": "ZON0DKl5Qm2S",
    "run_control": {
     "frozen": false,
     "read_only": false
    }
   },
   "source": [
    "\n",
    "$v^2 = \\frac{G \\cdot m(r)}{r}$\n"
   ]
  },
  {
   "cell_type": "markdown",
   "metadata": {
    "colab_type": "text",
    "id": "lVfy9lJ21xMT",
    "run_control": {
     "frozen": false,
     "read_only": false
    }
   },
   "source": [
    "Derive this $v^2\\propto\\frac{1}{r}$ from Newton's law $F~=~\\frac{GMm}{r^2}$. Write each formula and describe each step. You can use latex (you really just need to know ```\\frac{}``` and ```^```) and this reference\n",
    "https://www.physicsclassroom.com/calcpad/circgrav"
   ]
  },
  {
   "cell_type": "markdown",
   "metadata": {
    "colab_type": "text",
    "id": "HEB7hQojuAQt",
    "run_control": {
     "frozen": false,
     "read_only": false
    }
   },
   "source": [
    "$$\\frac{GMm}{r^2}=\\frac{mv^2}{r}$$\n",
    "\n",
    "The right hand side is $m$ times centripital acceleration.\n",
    "\n",
    "$$\\frac{GM}{r}=v^2$$"
   ]
  },
  {
   "cell_type": "markdown",
   "metadata": {
    "colab_type": "text",
    "id": "KQAEJtWuOdCb",
    "run_control": {
     "frozen": false,
     "read_only": false
    }
   },
   "source": [
    "## M31 rotational curve"
   ]
  },
  {
   "cell_type": "markdown",
   "metadata": {
    "ExecuteTime": {
     "end_time": "2019-08-02T01:34:15.029084Z",
     "start_time": "2019-08-02T01:34:15.026604Z"
    },
    "colab_type": "text",
    "id": "BTaXzFYeOdCc",
    "run_control": {
     "frozen": false,
     "read_only": false
    }
   },
   "source": [
    "# Galaxy Rotational Curves\n",
    "The data comes from [SOFUE 2015](http://www.ioa.s.u-tokyo.ac.jp/~sofue/htdocs/2015m31/2015-pasj-M31MW-DH.pdf)\n",
    "The data are plotted in Figure 3 and 4 for M31 and the Milky Way respectively, and hosted on [this website](http://www.ioa.s.u-tokyo.ac.jp/~sofue/htdocs/2015m31/)\n",
    "As described in the paper: \n",
    "Long and short bars represent modified standard deviations and errors, respectively\n",
    "\n",
    "#### Please read the last paragraphs of Section 2.1 of the paper to understand the meaning of these uncertainties:\n",
    "\n",
    "![figures](https://github.com/fedhere/DSPS/blob/master/HW4/figures.png?raw=1)\n",
    "\n"
   ]
  },
  {
   "cell_type": "markdown",
   "metadata": {
    "ExecuteTime": {
     "end_time": "2019-09-22T00:10:02.465470Z",
     "start_time": "2019-09-22T00:10:02.455255Z"
    },
    "colab_type": "text",
    "id": "rU4C8kq4nVl8",
    "run_control": {
     "frozen": false,
     "read_only": false
    }
   },
   "source": [
    "\n",
    "\n",
    "![text](https://github.com/fedhere/DSPS/blob/master/HW4/text.png?raw=1)\n",
    "\n",
    "### data ingestion\n",
    "Get the data from the github repository https://github.com/fedhere/DSPS/tree/master/HW4 : there are 2 files: mw.csv and m31.csv. Start with M31, the Andromeda galaxy, Vera Rubin's original target."
   ]
  },
  {
   "cell_type": "markdown",
   "metadata": {
    "colab_type": "text",
    "id": "_iFrkUYEV1SS",
    "run_control": {
     "frozen": false,
     "read_only": false
    }
   },
   "source": [
    "Note that the data contains 2 types of uncertainties: one significantly smaller than the other. The ```dv``` uncertainty is the propagation of the uncertainty in the location of the HII line. The uncertainty called ```err``` if the full error budget:  including _all_ sources of uncertainty and not just the uncertainty in measuring the location of the line. Retain both, you will test your hypothesis with each one to see if it matters which uncertainty you choose"
   ]
  },
  {
   "cell_type": "code",
   "execution_count": 2,
   "metadata": {
    "colab": {},
    "colab_type": "code",
    "id": "PFYBlhUjt8_e",
    "run_control": {
     "frozen": false,
     "read_only": false
    }
   },
   "outputs": [],
   "source": [
    "#read the file and skip the first header, to have the columns based on radius, velocity, st.deviaton and error\n",
    "m31 = pd.read_csv('https://raw.githubusercontent.com/fedhere/DSPS/master/HW4/m31.csv',header= 1, sep = ',')\n",
    "\n",
    "#rename the column headers \n",
    "m31= m31.rename(columns={\"#R(kpc\":\"r\",\"V(km/s)\":\"v\", \"St.dev.\":\"dv\" , \"St.error\":\"error\"})"
   ]
  },
  {
   "cell_type": "code",
   "execution_count": 3,
   "metadata": {
    "colab": {
     "base_uri": "https://localhost:8080/",
     "height": 202
    },
    "colab_type": "code",
    "id": "luL5UrsNQ1M1",
    "outputId": "bce4cc30-3a93-4f64-ed75-6fb95c65395d",
    "run_control": {
     "frozen": false,
     "read_only": false
    }
   },
   "outputs": [
    {
     "data": {
      "text/html": [
       "<div>\n",
       "<style scoped>\n",
       "    .dataframe tbody tr th:only-of-type {\n",
       "        vertical-align: middle;\n",
       "    }\n",
       "\n",
       "    .dataframe tbody tr th {\n",
       "        vertical-align: top;\n",
       "    }\n",
       "\n",
       "    .dataframe thead th {\n",
       "        text-align: right;\n",
       "    }\n",
       "</style>\n",
       "<table border=\"1\" class=\"dataframe\">\n",
       "  <thead>\n",
       "    <tr style=\"text-align: right;\">\n",
       "      <th></th>\n",
       "      <th>r</th>\n",
       "      <th>v</th>\n",
       "      <th>dv</th>\n",
       "      <th>error</th>\n",
       "    </tr>\n",
       "  </thead>\n",
       "  <tbody>\n",
       "    <tr>\n",
       "      <td>0</td>\n",
       "      <td>0.100</td>\n",
       "      <td>183.939</td>\n",
       "      <td>0.000</td>\n",
       "      <td>0.000</td>\n",
       "    </tr>\n",
       "    <tr>\n",
       "      <td>1</td>\n",
       "      <td>0.120</td>\n",
       "      <td>190.710</td>\n",
       "      <td>10.265</td>\n",
       "      <td>12.191</td>\n",
       "    </tr>\n",
       "    <tr>\n",
       "      <td>2</td>\n",
       "      <td>0.144</td>\n",
       "      <td>204.141</td>\n",
       "      <td>22.634</td>\n",
       "      <td>21.808</td>\n",
       "    </tr>\n",
       "    <tr>\n",
       "      <td>3</td>\n",
       "      <td>0.173</td>\n",
       "      <td>207.601</td>\n",
       "      <td>4.573</td>\n",
       "      <td>4.200</td>\n",
       "    </tr>\n",
       "    <tr>\n",
       "      <td>4</td>\n",
       "      <td>0.207</td>\n",
       "      <td>210.188</td>\n",
       "      <td>3.943</td>\n",
       "      <td>3.258</td>\n",
       "    </tr>\n",
       "  </tbody>\n",
       "</table>\n",
       "</div>"
      ],
      "text/plain": [
       "       r        v      dv   error\n",
       "0  0.100  183.939   0.000   0.000\n",
       "1  0.120  190.710  10.265  12.191\n",
       "2  0.144  204.141  22.634  21.808\n",
       "3  0.173  207.601   4.573   4.200\n",
       "4  0.207  210.188   3.943   3.258"
      ]
     },
     "execution_count": 3,
     "metadata": {},
     "output_type": "execute_result"
    }
   ],
   "source": [
    "m31.head()"
   ]
  },
  {
   "cell_type": "code",
   "execution_count": 4,
   "metadata": {
    "ExecuteTime": {
     "end_time": "2019-08-02T01:35:26.395158Z",
     "start_time": "2019-08-02T01:35:26.373338Z"
    },
    "colab": {
     "base_uri": "https://localhost:8080/",
     "height": 294
    },
    "colab_type": "code",
    "id": "QsNRokb1OdCh",
    "outputId": "fc81188a-03bb-411f-ad6d-80b283262471",
    "run_control": {
     "frozen": false,
     "read_only": false
    }
   },
   "outputs": [
    {
     "data": {
      "text/html": [
       "<div>\n",
       "<style scoped>\n",
       "    .dataframe tbody tr th:only-of-type {\n",
       "        vertical-align: middle;\n",
       "    }\n",
       "\n",
       "    .dataframe tbody tr th {\n",
       "        vertical-align: top;\n",
       "    }\n",
       "\n",
       "    .dataframe thead th {\n",
       "        text-align: right;\n",
       "    }\n",
       "</style>\n",
       "<table border=\"1\" class=\"dataframe\">\n",
       "  <thead>\n",
       "    <tr style=\"text-align: right;\">\n",
       "      <th></th>\n",
       "      <th>r</th>\n",
       "      <th>v</th>\n",
       "      <th>dv</th>\n",
       "      <th>error</th>\n",
       "    </tr>\n",
       "  </thead>\n",
       "  <tbody>\n",
       "    <tr>\n",
       "      <td>count</td>\n",
       "      <td>55.000000</td>\n",
       "      <td>55.000000</td>\n",
       "      <td>55.000000</td>\n",
       "      <td>55.000000</td>\n",
       "    </tr>\n",
       "    <tr>\n",
       "      <td>mean</td>\n",
       "      <td>205.853182</td>\n",
       "      <td>226.079255</td>\n",
       "      <td>55.034818</td>\n",
       "      <td>16.165855</td>\n",
       "    </tr>\n",
       "    <tr>\n",
       "      <td>std</td>\n",
       "      <td>415.523904</td>\n",
       "      <td>42.799892</td>\n",
       "      <td>49.254792</td>\n",
       "      <td>14.876951</td>\n",
       "    </tr>\n",
       "    <tr>\n",
       "      <td>min</td>\n",
       "      <td>0.100000</td>\n",
       "      <td>121.974000</td>\n",
       "      <td>0.000000</td>\n",
       "      <td>0.000000</td>\n",
       "    </tr>\n",
       "    <tr>\n",
       "      <td>25%</td>\n",
       "      <td>1.177000</td>\n",
       "      <td>208.894500</td>\n",
       "      <td>11.945500</td>\n",
       "      <td>3.224000</td>\n",
       "    </tr>\n",
       "    <tr>\n",
       "      <td>50%</td>\n",
       "      <td>13.737000</td>\n",
       "      <td>229.124000</td>\n",
       "      <td>30.697000</td>\n",
       "      <td>12.065000</td>\n",
       "    </tr>\n",
       "    <tr>\n",
       "      <td>75%</td>\n",
       "      <td>161.675000</td>\n",
       "      <td>244.102500</td>\n",
       "      <td>99.980000</td>\n",
       "      <td>23.641000</td>\n",
       "    </tr>\n",
       "    <tr>\n",
       "      <td>max</td>\n",
       "      <td>1887.071000</td>\n",
       "      <td>414.942000</td>\n",
       "      <td>147.835000</td>\n",
       "      <td>54.110000</td>\n",
       "    </tr>\n",
       "  </tbody>\n",
       "</table>\n",
       "</div>"
      ],
      "text/plain": [
       "                 r           v          dv      error\n",
       "count    55.000000   55.000000   55.000000  55.000000\n",
       "mean    205.853182  226.079255   55.034818  16.165855\n",
       "std     415.523904   42.799892   49.254792  14.876951\n",
       "min       0.100000  121.974000    0.000000   0.000000\n",
       "25%       1.177000  208.894500   11.945500   3.224000\n",
       "50%      13.737000  229.124000   30.697000  12.065000\n",
       "75%     161.675000  244.102500   99.980000  23.641000\n",
       "max    1887.071000  414.942000  147.835000  54.110000"
      ]
     },
     "execution_count": 4,
     "metadata": {},
     "output_type": "execute_result"
    }
   ],
   "source": [
    "m31.describe()"
   ]
  },
  {
   "cell_type": "markdown",
   "metadata": {
    "colab_type": "text",
    "id": "Vv0Ut6vOOdCk",
    "run_control": {
     "frozen": false,
     "read_only": false
    }
   },
   "source": [
    "from https://en.wikipedia.org/wiki/Andromeda_Galaxy get the extent of the luminous component of M31 (Andromeda). The distance of the Galaxy multiplied by the angular size will give you this information from basic trigonometry (make sure you convert the units properly, using astropy). Make sure you include the uncertainties! uncertainties in the distance will give you the uncertainty in the size\n",
    "   \n",
    " "
   ]
  },
  {
   "cell_type": "code",
   "execution_count": 5,
   "metadata": {
    "colab": {},
    "colab_type": "code",
    "id": "kvIFr6D778ri",
    "run_control": {
     "frozen": false,
     "read_only": false
    }
   },
   "outputs": [],
   "source": [
    "apparentSizeM31 = 3.167 #deg\n",
    "distanceM31 = 778 #kpc\n",
    "uncertaintyd = 33 #kpc"
   ]
  },
  {
   "cell_type": "markdown",
   "metadata": {},
   "source": [
    "<span style=\"color:red\">**-0.1 pt: for using diameter not radius**</span>"
   ]
  },
  {
   "cell_type": "code",
   "execution_count": 6,
   "metadata": {
    "ExecuteTime": {
     "end_time": "2019-08-02T01:35:41.413407Z",
     "start_time": "2019-08-02T01:35:41.408764Z"
    },
    "colab": {
     "base_uri": "https://localhost:8080/",
     "height": 35
    },
    "colab_type": "code",
    "id": "tzGNh98hOdCl",
    "outputId": "380d185d-93e8-4797-c659-dc40b1aacfcc",
    "run_control": {
     "frozen": false,
     "read_only": false
    }
   },
   "outputs": [
    {
     "name": "stdout",
     "output_type": "stream",
     "text": [
      "Angular Size of the visible component of Andromeda: 0.0553 rad\n"
     ]
    }
   ],
   "source": [
    "# note : by PEP8 standards the import should be at the top, I leave it here for hyou to see that I am using astropy.units now\n",
    "from astropy import units as u\n",
    "m31angS = apparentSizeM31 * u.degree\n",
    "print(\"Angular Size of the visible component of Andromeda: {:.4f}\".format(m31angS.to(u.rad)))"
   ]
  },
  {
   "cell_type": "markdown",
   "metadata": {
    "colab_type": "text",
    "id": "cOw0Y4KNWTOZ",
    "run_control": {
     "frozen": false,
     "read_only": false
    }
   },
   "source": [
    "Please make sure you print a sensible number of decimal digits! you have a  number of significant digits set by the number of digit in the info you get from wikipedia"
   ]
  },
  {
   "cell_type": "markdown",
   "metadata": {
    "colab_type": "text",
    "id": "hF2wXZ988QgS",
    "run_control": {
     "frozen": false,
     "read_only": false
    }
   },
   "source": [
    "The distance, from Wikipedia, will have an uncertainty. Convert both to kiloparsecs Kpc"
   ]
  },
  {
   "cell_type": "code",
   "execution_count": 7,
   "metadata": {
    "ExecuteTime": {
     "end_time": "2019-08-02T01:35:42.257553Z",
     "start_time": "2019-08-02T01:35:42.254539Z"
    },
    "colab": {
     "base_uri": "https://localhost:8080/",
     "height": 35
    },
    "colab_type": "code",
    "id": "7-nEP6KrOdCo",
    "outputId": "eeb5d294-6758-423b-b0b0-6aceabe0db5f",
    "run_control": {
     "frozen": false,
     "read_only": false
    }
   },
   "outputs": [
    {
     "name": "stdout",
     "output_type": "stream",
     "text": [
      "778.0 kpc 33.0 kpc\n"
     ]
    }
   ],
   "source": [
    "#print(\"First measurement outside of the visible radius:\")\n",
    "#round(m31[m31.r > m31size].r.values[0], 2) * u.kpc\n",
    "\n",
    "#multiply the distance and its uncertainitis by kpc\n",
    "m31dist = distanceM31 * u.kpc\n",
    "m31distun =  uncertaintyd * u.kpc\n",
    "print (m31dist,m31distun)"
   ]
  },
  {
   "cell_type": "markdown",
   "metadata": {
    "colab_type": "text",
    "id": "jKPazsJ2eHDt"
   },
   "source": [
    "To calculate the diamater of M31 use the angular size formula with the small angle approximation:\n",
    "\n",
    "$$\\alpha=\\frac{D}{d}$$\n",
    "\n",
    "Where $\\alpha$ is the angle of the apparent size in arcseconds, $D$ is the diamter in AU and $d$ is the distance to the object. The equation results in:\n",
    "\n",
    "$$D=\\alpha d$$"
   ]
  },
  {
   "cell_type": "code",
   "execution_count": 8,
   "metadata": {
    "ExecuteTime": {
     "end_time": "2019-08-02T01:35:42.815232Z",
     "start_time": "2019-08-02T01:35:42.810316Z"
    },
    "colab": {
     "base_uri": "https://localhost:8080/",
     "height": 52
    },
    "colab_type": "code",
    "id": "0y_V9AuFOdCv",
    "outputId": "9155df52-e474-49dd-d578-29f83e4c5157",
    "run_control": {
     "frozen": false,
     "read_only": false
    }
   },
   "outputs": [
    {
     "name": "stdout",
     "output_type": "stream",
     "text": [
      "Size of the visible component of Andromeda:43.00 kpc \n",
      "Size of the visible component of Andromeda with error added:44.83 kpc \n"
     ]
    }
   ],
   "source": [
    "#calculate the diameter by tunring m31angS to arcseconds\n",
    "m31size = m31dist * m31angS.to(u.arcsecond)\n",
    "#take the value of the diameter, turn it into AU and then convert into kpc\n",
    "m31size = (m31size.value * u.kau).to(u.kpc)\n",
    "m31sizewerr = ((m31dist + m31distun) * m31angS.to(u.arcsecond)).value * u.kau\n",
    "print(\"Size of the visible component of Andromeda:{:.2f} \".format(m31size))\n",
    "print(\"Size of the visible component of Andromeda with error added:{:.2f} \".format(m31sizewerr.to(u.kpc)))"
   ]
  },
  {
   "cell_type": "markdown",
   "metadata": {},
   "source": [
    "<span style=\"color:red\">**-0.1 pt: for not showing uncertainty**</span>"
   ]
  },
  {
   "cell_type": "markdown",
   "metadata": {
    "colab_type": "text",
    "id": "t7TtfzkJNfz4"
   },
   "source": [
    "(***The actual size of Andromeda is around $220kly$, which is about $67kpc$, but our calculation only gets to $44.8kpc$ including the error in the disatnce. We consider that to get the correct size of M31 we will need for information to calculate it's diameter with more precision***)"
   ]
  },
  {
   "cell_type": "markdown",
   "metadata": {
    "colab_type": "text",
    "id": "_pTXgdTL8jv6",
    "run_control": {
     "frozen": false,
     "read_only": false
    }
   },
   "source": [
    "Print the distance like I printed the angular size. \n",
    "\n",
    "To get the physical size of the visible component of andtomeda you can use simple trigonometry: $y = r * sin(\\alpha) ~ \\sim ~ r \\alpha $ for small angles \n",
    "\n",
    "\n",
    "Print the physical size of the Andromeda galaxy (remember decimal digits, proper formatting etc etc). \n"
   ]
  },
  {
   "cell_type": "markdown",
   "metadata": {
    "colab_type": "text",
    "id": "97o52hRhOdCy",
    "run_control": {
     "frozen": false,
     "read_only": false
    }
   },
   "source": [
    "### find the first measurement  in your data table that includes all the luminous mass. \n",
    "\n",
    "What is the smallest radius in your data where the luminous mass is completely included and what is the veolcity at that radius?\n",
    "You can do it by broadcasting (see homework 3)"
   ]
  },
  {
   "cell_type": "code",
   "execution_count": 9,
   "metadata": {
    "colab": {
     "base_uri": "https://localhost:8080/",
     "height": 104
    },
    "colab_type": "code",
    "id": "Q71A5iItz8jC",
    "outputId": "3b3b3e49-5516-424c-9ab5-25416845f091"
   },
   "outputs": [
    {
     "data": {
      "text/plain": [
       "r         23.738\n",
       "v        236.511\n",
       "dv        11.729\n",
       "error      1.580\n",
       "Name: 30, dtype: float64"
      ]
     },
     "execution_count": 9,
     "metadata": {},
     "output_type": "execute_result"
    }
   ],
   "source": [
    "m31.where(m31.r > (m31size)/2).dropna().iloc[0]"
   ]
  },
  {
   "cell_type": "markdown",
   "metadata": {
    "colab_type": "text",
    "id": "TVWiU84XOdDA",
    "run_control": {
     "frozen": false,
     "read_only": false
    }
   },
   "source": [
    "We expect the velocity to decrease as 1/r if all mass is included: the velocity at a radius twice as far as the radius that includes all the mass should be a factor 2 slower, three times as far a factor 3 slower. "
   ]
  },
  {
   "cell_type": "markdown",
   "metadata": {
    "colab_type": "text",
    "id": "b096Ax33SiXl",
    "run_control": {
     "frozen": false,
     "read_only": false
    }
   },
   "source": [
    "write a function that \n",
    "\n",
    "1. finds the smallest radius in the dataset that is at least N times the radius of the visible galaxy, \n",
    "\n",
    "2. takes as arguments:\n",
    "    - the data and \n",
    "    - N \n",
    "    - the size of the luminous component of the galaxy\n",
    " \n",
    "2. Returns the value of the radius and its uncertainty and the velocity and its uncertainty"
   ]
  },
  {
   "cell_type": "markdown",
   "metadata": {
    "colab_type": "text",
    "id": "IlXRBgvCX7Wk"
   },
   "source": [
    "$$v^2=GM/r\\Rightarrow r=GMv^{-2}$$\n",
    "\n",
    "$$\\delta r=\\left|\\frac{\\partial r}{\\partial v}\\delta v\\right|$$\n",
    "\n",
    "$$\\delta r=\\left|\\frac{-2GM}{v^3}\\delta v\\right|\\qquad\\text{and}\\qquad M=\\frac{v^2 r}{G}$$\n",
    "\n",
    "$$\\delta r=\\frac{G\\frac{v^2r}{G}}{v^3}\\delta v=\\frac{2r\\delta v}{v}$$"
   ]
  },
  {
   "cell_type": "code",
   "execution_count": 10,
   "metadata": {
    "ExecuteTime": {
     "end_time": "2019-08-02T02:07:26.053511Z",
     "start_time": "2019-08-02T02:07:26.046677Z"
    },
    "colab": {
     "base_uri": "https://localhost:8080/",
     "height": 121
    },
    "colab_type": "code",
    "id": "-_O34Bb7OdC2",
    "outputId": "41171592-cca3-4175-c0c7-8de7bdf48100",
    "run_control": {
     "frozen": false,
     "read_only": false
    }
   },
   "outputs": [
    {
     "data": {
      "text/plain": [
       "r         49.222000\n",
       "v        237.069000\n",
       "dv       109.381000\n",
       "error     23.924000\n",
       "dr        45.420967\n",
       "Name: 34, dtype: float64"
      ]
     },
     "execution_count": 10,
     "metadata": {},
     "output_type": "execute_result"
    }
   ],
   "source": [
    "def getradii(gal, gsize, n):\n",
    "  #define a new column in the data frame with values of teh uncertainty in the radius\n",
    "  gal['dr'] = 2 * gal.r *gal.dv /gal.v\n",
    "  #us broadcasting to look for the least value and return it\n",
    "  stars = gal.where(gal.r > (gsize)/2 * n).dropna()\n",
    "  output = stars.iloc[0]\n",
    "  return output\n",
    "#do a trial for n = 2\n",
    "getradii(m31, m31size, 2)  "
   ]
  },
  {
   "cell_type": "markdown",
   "metadata": {
    "ExecuteTime": {
     "end_time": "2019-08-01T18:13:58.231637Z",
     "start_time": "2019-08-01T18:13:58.229447Z"
    },
    "colab_type": "text",
    "id": "ogu_iquzOdC5",
    "run_control": {
     "frozen": false,
     "read_only": false
    }
   },
   "source": [
    "### data visualization"
   ]
  },
  {
   "cell_type": "markdown",
   "metadata": {
    "colab_type": "text",
    "id": "kJ6MujVJUyel",
    "run_control": {
     "frozen": false,
     "read_only": false
    }
   },
   "source": [
    "make a plot that shows\n",
    "\n",
    "1. the rotational curve of the galaxy (as a line)\n",
    "\n",
    "2. each velocity as an errorbar with error equal to err in the same color as the line in 1\n",
    "\n",
    "3. each velocity as an errorbar with error equal to dv in  the same color but a different line thickness\n",
    "\n",
    "\n",
    "4. the datapoint corresponding to N=1, 2, 3 each in a different color. \n",
    "\n",
    "5. add a legend that indicates the meaning of each color (```pl.legend()```)\n",
    "\n",
    "6. add a text that indicates the velocity and its uncertainty (dv and err) just below the largest errorbar (```pl.text()```)\n",
    "\n",
    "7. limit the x axis to the \"relevant\" portion of the data"
   ]
  },
  {
   "cell_type": "code",
   "execution_count": 11,
   "metadata": {
    "ExecuteTime": {
     "end_time": "2019-08-02T03:01:27.556063Z",
     "start_time": "2019-08-02T03:01:27.302184Z"
    },
    "colab": {
     "base_uri": "https://localhost:8080/",
     "height": 295
    },
    "colab_type": "code",
    "id": "7IMXYY8BOdC6",
    "outputId": "706362f4-d04a-4975-daad-ff10e684fab3",
    "run_control": {
     "frozen": false,
     "read_only": false
    }
   },
   "outputs": [
    {
     "data": {
      "image/png": "[encoded data removed]",
      "text/plain": [
       "<Figure size 432x288 with 1 Axes>"
      ]
     },
     "metadata": {
      "needs_background": "light"
     },
     "output_type": "display_data"
    }
   ],
   "source": [
    "def plotGal(gal,rds):\n",
    "  #plot the data points with its error bars\n",
    "  pl.errorbar(gal.r,gal.v,yerr=gal.dv)\n",
    "  pl.xlim((0,170))\n",
    "  pl.xlabel('radius (kpc)')\n",
    "  pl.ylabel('Velocity (km/s)')\n",
    "  #loop through teh values of n from 1 to 3 to visualize the values of the velocity in the graph \n",
    "  for n in [1,2,3]:\n",
    "    npoint = getradii(gal,rds,n)\n",
    "    pl.errorbar(npoint.r,npoint.v,yerr=npoint.dv)\n",
    "    pl.text(npoint.r-16,npoint.v-npoint.dv-50,\"       {:0.1f}\\n({:0.1f}, {:0.1f})\".\n",
    "            format(npoint.v,npoint.dv,npoint.error))\n",
    "  #show the error bars at the 3 points with the valuess of error\n",
    "  for n in [1,2,3]:\n",
    "    npoint = getradii(gal,rds,n)\n",
    "    pl.errorbar(npoint.r,npoint.v,yerr=npoint.error,color='k',elinewidth=5)\n",
    "    \n",
    "    \n",
    "  pl.legend(('v','radius','$2\\\\times radius$','$3\\\\times radius$'))\n",
    "  pl.title('Orbital velocities of stars orbiting around the galaxy')\n",
    "  \n",
    "\n",
    "\n",
    "plotGal(m31,m31size)"
   ]
  },
  {
   "cell_type": "markdown",
   "metadata": {
    "colab_type": "text",
    "id": "bIbv3YrhTo0X",
    "run_control": {
     "frozen": false,
     "read_only": false
    }
   },
   "source": [
    "Write a function that for a given dataset and a given luminous radius and a given N \n",
    "  \n",
    "  1) uses the function above to find the radius at least as large as needed and the velocity at that radius, \n",
    "  \n",
    "  2) states the expected drop in rotational velocities according to Newton's law $v\\propto 1/r$\n",
    "  \n",
    "  3) calculates the ratio of radii and the ratio of velocities at N radii from the center N=1 and N=N (input, e.g. 2, 3 etc) with uncertainties, \n",
    "  \n",
    "  4) and stated whether that ratio is consistent within the uncertainties with Newton's law $v \\propto 1/r$\n",
    "  \n",
    "Your function should print \n",
    "\n",
    " the expected ratio based on the radii, \n",
    " \n",
    " the calculated ratio using ```dv```, and its uncertainty, - \n",
    " \n",
    " the 2- $\\sigma$ upper and lower limits of the calculated ratio\n",
    " \n",
    " whether the expected ratio is within the $2-\\sigma$ of the calculated ratio, \n",
    " \n",
    "  5) and the same using ```err```  instead of ```dv```"
   ]
  },
  {
   "cell_type": "code",
   "execution_count": 12,
   "metadata": {
    "ExecuteTime": {
     "end_time": "2019-08-02T02:22:18.485172Z",
     "start_time": "2019-08-02T02:22:18.477807Z"
    },
    "colab": {
     "base_uri": "https://localhost:8080/",
     "height": 1000
    },
    "colab_type": "code",
    "id": "1hhTw8N4OdDB",
    "outputId": "233479bb-5b0a-4ed8-f07c-3ce1d88ad0b8",
    "run_control": {
     "frozen": false,
     "read_only": false
    }
   },
   "outputs": [
    {
     "name": "stdout",
     "output_type": "stream",
     "text": [
      "N = 2\n",
      "using dv first:\n",
      "The expected ratio of the velocities is 0.6945, while the measured\n",
      "  velocity ratio is 1.0024. The $2\\sigma$ acceptable range for the actual\n",
      "  ratio (according to the measured ratio) is between 0.0721 and 1.9326.\n",
      "The predicted ratio does fall within the $2\\sigma$ confidence range.\n",
      "\n",
      "\n",
      "\n",
      "using 'error' now:\n",
      "The predicted ratio of the velocities is 0.6945, while the measured\n",
      "  velocity ratio is 1.0024. The $2\\sigma$ acceptable range for the actual\n",
      "  ratio (according to the measured ratio) is between 0.7996 and 1.2051.\n",
      "The predicted ratio does *not* fall within the $2\\sigma$ confidence range.\n",
      "\n",
      "---\n",
      "\n",
      "N = 3\n",
      "using dv first:\n",
      "The expected ratio of the velocities is 0.5787, while the measured\n",
      "  velocity ratio is 0.9238. The $2\\sigma$ acceptable range for the actual\n",
      "  ratio (according to the measured ratio) is between -0.1992 and 2.0468.\n",
      "The predicted ratio does fall within the $2\\sigma$ confidence range.\n",
      "\n",
      "\n",
      "\n",
      "using 'error' now:\n",
      "The predicted ratio of the velocities is 0.5787, while the measured\n",
      "  velocity ratio is 0.9238. The $2\\sigma$ acceptable range for the actual\n",
      "  ratio (according to the measured ratio) is between 0.7149 and 1.1327.\n",
      "The predicted ratio does *not* fall within the $2\\sigma$ confidence range.\n",
      "\n",
      "---\n",
      "\n",
      "N = 4\n",
      "using dv first:\n",
      "The expected ratio of the velocities is 0.4823, while the measured\n",
      "  velocity ratio is 0.9006. The $2\\sigma$ acceptable range for the actual\n",
      "  ratio (according to the measured ratio) is between -0.2230 and 2.0242.\n",
      "The predicted ratio does fall within the $2\\sigma$ confidence range.\n",
      "\n",
      "\n",
      "\n",
      "using 'error' now:\n",
      "The predicted ratio of the velocities is 0.4823, while the measured\n",
      "  velocity ratio is 0.9006. The $2\\sigma$ acceptable range for the actual\n",
      "  ratio (according to the measured ratio) is between 0.6524 and 1.1488.\n",
      "The predicted ratio does *not* fall within the $2\\sigma$ confidence range.\n",
      "\n",
      "---\n",
      "\n",
      "N = 5\n",
      "using dv first:\n",
      "The expected ratio of the velocities is 0.4402, while the measured\n",
      "  velocity ratio is 0.8346. The $2\\sigma$ acceptable range for the actual\n",
      "  ratio (according to the measured ratio) is between -0.0633 and 1.7324.\n",
      "The predicted ratio does fall within the $2\\sigma$ confidence range.\n",
      "\n",
      "\n",
      "\n",
      "using 'error' now:\n",
      "The predicted ratio of the velocities is 0.4402, while the measured\n",
      "  velocity ratio is 0.8346. The $2\\sigma$ acceptable range for the actual\n",
      "  ratio (according to the measured ratio) is between 0.6367 and 1.0324.\n",
      "The predicted ratio does *not* fall within the $2\\sigma$ confidence range.\n",
      "\n",
      "---\n",
      "\n",
      "N = 6\n",
      "using dv first:\n",
      "The expected ratio of the velocities is 0.4019, while the measured\n",
      "  velocity ratio is 0.7506. The $2\\sigma$ acceptable range for the actual\n",
      "  ratio (according to the measured ratio) is between 0.0552 and 1.4460.\n",
      "The predicted ratio does fall within the $2\\sigma$ confidence range.\n",
      "\n",
      "\n",
      "\n",
      "using 'error' now:\n",
      "The predicted ratio of the velocities is 0.4019, while the measured\n",
      "  velocity ratio is 0.7506. The $2\\sigma$ acceptable range for the actual\n",
      "  ratio (according to the measured ratio) is between 0.6093 and 0.8918.\n",
      "The predicted ratio does *not* fall within the $2\\sigma$ confidence range.\n",
      "\n",
      "---\n",
      "\n"
     ]
    }
   ],
   "source": [
    "# our dataset of \"interest\" (plotted above) includes values up to and\n",
    "# including N=6\n",
    "def vratios(gal, gsize, n):\n",
    "  #find the radius \n",
    "  output = getradii(gal, gsize, n)\n",
    "  output['predict_v'] = output.r**(-0.5)\n",
    "  \n",
    "  #take the radius of n=1 as a baseline\n",
    "  baseline = getradii(gal,gsize,1)\n",
    "  baseline['predict_v'] = baseline.r**(-0.5)\n",
    "  \n",
    "  #caculate the ratios\n",
    "  data_ratio = output.v/baseline.v\n",
    "  predict_ratio = output.predict_v/baseline.predict_v\n",
    "  \n",
    "  #calculate the ratios with dv\n",
    "  d_data_ratio = data_ratio * ( (output.dv/output.v)**2  +  (baseline.dv/baseline.v)**2 )**0.5\n",
    "  d_upper_lim = data_ratio + 2*d_data_ratio\n",
    "  d_lower_lim = data_ratio - 2*d_data_ratio\n",
    "  \n",
    "  #calculate the ratios using error\n",
    "  error_data_ratio = data_ratio * ( (output.error/output.v)**2  +  (baseline.error/baseline.v)**2 )**0.5\n",
    "  error_upper_lim = data_ratio + 2*error_data_ratio\n",
    "  error_lower_lim = data_ratio - 2*error_data_ratio\n",
    "  \n",
    "  print(\"using dv first:\")\n",
    "  \n",
    "  \n",
    "  print(\"The expected ratio of the velocities is {:.4f}, while the measured\\n\\\n",
    "  velocity ratio is {:.4f}. The $2\\\\sigma$ acceptable range for the actual\\n\\\n",
    "  ratio (according to the measured ratio) is between {:.4f} and {:.4f}.\"\n",
    "        .format(predict_ratio, data_ratio, d_lower_lim, d_upper_lim))\n",
    "  \n",
    "  #compare if the ratios calculated with dv are within the 2sigma limits \n",
    "  if predict_ratio <= d_upper_lim and predict_ratio >= d_lower_lim:\n",
    "    print(\"The predicted ratio does fall within the $2\\\\sigma$ confidence range.\")\n",
    "  else:\n",
    "    print(\"The predicted ratio does *not* fall within the $2\\\\sigma$ confidence range.\")\n",
    "    \n",
    "  print(\"\\n\\n\\nusing 'error' now:\")\n",
    "  \n",
    "  print(\"The predicted ratio of the velocities is {:.4f}, while the measured\\n\\\n",
    "  velocity ratio is {:.4f}. The $2\\\\sigma$ acceptable range for the actual\\n\\\n",
    "  ratio (according to the measured ratio) is between {:.4f} and {:.4f}.\"\n",
    "        .format(predict_ratio, data_ratio, error_lower_lim, error_upper_lim))\n",
    "  \n",
    "   #compare if the ratios calculated with error are within the 2sigma limits \n",
    "  if predict_ratio <= error_upper_lim and predict_ratio >= error_lower_lim:\n",
    "    print(\"The predicted ratio does fall within the $2\\\\sigma$ confidence range.\")\n",
    "  else:\n",
    "    print(\"The predicted ratio does *not* fall within the $2\\\\sigma$ confidence range.\")  \n",
    "  \n",
    "\n",
    "#evaluate the function for values of N going from 2 to 6\n",
    "for N in range(2,7):\n",
    "  print(\"N =\",N)\n",
    "  vratios(m31,m31size,N)\n",
    "  print(\"\\n---\\n\")\n",
    "   "
   ]
  },
  {
   "cell_type": "markdown",
   "metadata": {},
   "source": [
    "<span style=\"color:red\">**-0.2 pt: should print out uncertainty**</span>\n",
    "\n",
    "<span style=\"color:red\">**-0.25 pt: check your prediction radio computation code, and only compare 1Xradius with 2Xradius and 1Xradius with 3Xradius**</span>"
   ]
  },
  {
   "cell_type": "markdown",
   "metadata": {
    "ExecuteTime": {
     "end_time": "2019-08-02T00:36:41.637045Z",
     "start_time": "2019-08-02T00:36:41.634825Z"
    },
    "colab_type": "text",
    "id": "6me5k4c1OdDY",
    "run_control": {
     "frozen": false,
     "read_only": false
    }
   },
   "source": [
    "##Discusion: \n",
    "The range of error is noticeably lower (and therefore more sensitive) than the standard deviation found for the measured velocities. Using these values results in the disagreement between predictions and measurements for all values of $N$, while the standard deviations of velocities are too large to pick up these discrepancies.\n",
    "\n",
    "Therefore, at a 0.95 confidence level, we have found that there is a statistically significant discrepancy between the measured orbital velocities of these stars and their classically predicted orbital velocities.\n",
    " \n",
    "A possible source for this discrepancy is the pressence of dark matter around the galaxy's halo. If the mass distribution of the galaxy extends beyond the visible portion, then this classical prediction outside the radius of the galaxy would not hold. The Newtonian model predicts that the mass $m$ decreasesas the radius of the galaxy $r$ increases since the center or mass is where most of the visible mass is located, but this result shows that this predcition doesn't hold true, which supports the evidence of the gravitational effect that dark matter has on the stars further away from the galactic center."
   ]
  },
  {
   "cell_type": "markdown",
   "metadata": {
    "colab_type": "text",
    "id": "QIHRn8UlOdDZ",
    "run_control": {
     "frozen": false,
     "read_only": false
    }
   },
   "source": [
    "## do the same for the Milky Way. If your functions were create properly you should be able to reuse them seamlessly"
   ]
  },
  {
   "cell_type": "code",
   "execution_count": 13,
   "metadata": {
    "colab": {},
    "colab_type": "code",
    "id": "NVp9cJzv-Dic",
    "run_control": {
     "frozen": false,
     "read_only": false
    }
   },
   "outputs": [],
   "source": [
    "#repeat the procedure for the Milky Way\n",
    "mw = pd.read_csv('https://raw.githubusercontent.com/fedhere/DSPS/master/HW4/mw.csv',header= 1, sep = ',')\n",
    "\n",
    "mw= mw.rename(columns={\"R(kpc)\":\"r\",\"V(km/s)\":\"v\", \"St.dev.\":\"dv\" , \"St.error\":\"error\"})"
   ]
  },
  {
   "cell_type": "code",
   "execution_count": 14,
   "metadata": {
    "colab": {
     "base_uri": "https://localhost:8080/",
     "height": 202
    },
    "colab_type": "code",
    "id": "AtekfHFzYU00",
    "outputId": "4cf13784-5ae4-4334-ce6b-4dacc85680b1"
   },
   "outputs": [
    {
     "data": {
      "text/html": [
       "<div>\n",
       "<style scoped>\n",
       "    .dataframe tbody tr th:only-of-type {\n",
       "        vertical-align: middle;\n",
       "    }\n",
       "\n",
       "    .dataframe tbody tr th {\n",
       "        vertical-align: top;\n",
       "    }\n",
       "\n",
       "    .dataframe thead th {\n",
       "        text-align: right;\n",
       "    }\n",
       "</style>\n",
       "<table border=\"1\" class=\"dataframe\">\n",
       "  <thead>\n",
       "    <tr style=\"text-align: right;\">\n",
       "      <th></th>\n",
       "      <th>r</th>\n",
       "      <th>v</th>\n",
       "      <th>dv</th>\n",
       "      <th>error</th>\n",
       "    </tr>\n",
       "  </thead>\n",
       "  <tbody>\n",
       "    <tr>\n",
       "      <td>0</td>\n",
       "      <td>0.010</td>\n",
       "      <td>119.061</td>\n",
       "      <td>41.832</td>\n",
       "      <td>32.714</td>\n",
       "    </tr>\n",
       "    <tr>\n",
       "      <td>1</td>\n",
       "      <td>0.012</td>\n",
       "      <td>115.268</td>\n",
       "      <td>35.199</td>\n",
       "      <td>17.100</td>\n",
       "    </tr>\n",
       "    <tr>\n",
       "      <td>2</td>\n",
       "      <td>0.014</td>\n",
       "      <td>117.392</td>\n",
       "      <td>35.152</td>\n",
       "      <td>14.429</td>\n",
       "    </tr>\n",
       "    <tr>\n",
       "      <td>3</td>\n",
       "      <td>0.017</td>\n",
       "      <td>118.475</td>\n",
       "      <td>35.252</td>\n",
       "      <td>14.870</td>\n",
       "    </tr>\n",
       "    <tr>\n",
       "      <td>4</td>\n",
       "      <td>0.021</td>\n",
       "      <td>110.386</td>\n",
       "      <td>33.817</td>\n",
       "      <td>14.427</td>\n",
       "    </tr>\n",
       "  </tbody>\n",
       "</table>\n",
       "</div>"
      ],
      "text/plain": [
       "       r        v      dv   error\n",
       "0  0.010  119.061  41.832  32.714\n",
       "1  0.012  115.268  35.199  17.100\n",
       "2  0.014  117.392  35.152  14.429\n",
       "3  0.017  118.475  35.252  14.870\n",
       "4  0.021  110.386  33.817  14.427"
      ]
     },
     "execution_count": 14,
     "metadata": {},
     "output_type": "execute_result"
    }
   ],
   "source": [
    "mw.head()"
   ]
  },
  {
   "cell_type": "code",
   "execution_count": 15,
   "metadata": {
    "colab": {
     "base_uri": "https://localhost:8080/",
     "height": 294
    },
    "colab_type": "code",
    "id": "MEb34XseYZnG",
    "outputId": "8833a303-6b92-4a26-f40d-eb090c2b2664"
   },
   "outputs": [
    {
     "data": {
      "text/html": [
       "<div>\n",
       "<style scoped>\n",
       "    .dataframe tbody tr th:only-of-type {\n",
       "        vertical-align: middle;\n",
       "    }\n",
       "\n",
       "    .dataframe tbody tr th {\n",
       "        vertical-align: top;\n",
       "    }\n",
       "\n",
       "    .dataframe thead th {\n",
       "        text-align: right;\n",
       "    }\n",
       "</style>\n",
       "<table border=\"1\" class=\"dataframe\">\n",
       "  <thead>\n",
       "    <tr style=\"text-align: right;\">\n",
       "      <th></th>\n",
       "      <th>r</th>\n",
       "      <th>v</th>\n",
       "      <th>dv</th>\n",
       "      <th>error</th>\n",
       "    </tr>\n",
       "  </thead>\n",
       "  <tbody>\n",
       "    <tr>\n",
       "      <td>count</td>\n",
       "      <td>64.000000</td>\n",
       "      <td>64.000000</td>\n",
       "      <td>64.000000</td>\n",
       "      <td>64.000000</td>\n",
       "    </tr>\n",
       "    <tr>\n",
       "      <td>mean</td>\n",
       "      <td>142.281500</td>\n",
       "      <td>187.101219</td>\n",
       "      <td>48.249063</td>\n",
       "      <td>19.003297</td>\n",
       "    </tr>\n",
       "    <tr>\n",
       "      <td>std</td>\n",
       "      <td>348.144773</td>\n",
       "      <td>52.161901</td>\n",
       "      <td>41.255286</td>\n",
       "      <td>23.513466</td>\n",
       "    </tr>\n",
       "    <tr>\n",
       "      <td>min</td>\n",
       "      <td>0.010000</td>\n",
       "      <td>93.042000</td>\n",
       "      <td>3.370000</td>\n",
       "      <td>0.868000</td>\n",
       "    </tr>\n",
       "    <tr>\n",
       "      <td>25%</td>\n",
       "      <td>0.177250</td>\n",
       "      <td>138.676250</td>\n",
       "      <td>12.585500</td>\n",
       "      <td>2.709750</td>\n",
       "    </tr>\n",
       "    <tr>\n",
       "      <td>50%</td>\n",
       "      <td>3.133500</td>\n",
       "      <td>204.576000</td>\n",
       "      <td>35.288500</td>\n",
       "      <td>13.923000</td>\n",
       "    </tr>\n",
       "    <tr>\n",
       "      <td>75%</td>\n",
       "      <td>55.298250</td>\n",
       "      <td>235.920500</td>\n",
       "      <td>68.412750</td>\n",
       "      <td>24.791250</td>\n",
       "    </tr>\n",
       "    <tr>\n",
       "      <td>max</td>\n",
       "      <td>1682.532000</td>\n",
       "      <td>255.300000</td>\n",
       "      <td>165.096000</td>\n",
       "      <td>110.484000</td>\n",
       "    </tr>\n",
       "  </tbody>\n",
       "</table>\n",
       "</div>"
      ],
      "text/plain": [
       "                 r           v          dv       error\n",
       "count    64.000000   64.000000   64.000000   64.000000\n",
       "mean    142.281500  187.101219   48.249063   19.003297\n",
       "std     348.144773   52.161901   41.255286   23.513466\n",
       "min       0.010000   93.042000    3.370000    0.868000\n",
       "25%       0.177250  138.676250   12.585500    2.709750\n",
       "50%       3.133500  204.576000   35.288500   13.923000\n",
       "75%      55.298250  235.920500   68.412750   24.791250\n",
       "max    1682.532000  255.300000  165.096000  110.484000"
      ]
     },
     "execution_count": 15,
     "metadata": {},
     "output_type": "execute_result"
    }
   ],
   "source": [
    "mw.describe()"
   ]
  },
  {
   "cell_type": "code",
   "execution_count": 16,
   "metadata": {
    "colab": {
     "base_uri": "https://localhost:8080/",
     "height": 35
    },
    "colab_type": "code",
    "id": "gxQPHtagYiVP",
    "outputId": "c2d3f423-445c-4412-bb27-b37ed41b68e1"
   },
   "outputs": [
    {
     "name": "stdout",
     "output_type": "stream",
     "text": [
      "Size of the visible component of the Milky Way:53.500 kpc \n"
     ]
    }
   ],
   "source": [
    "mwsize = 53.5 * u.kpc\n",
    "print(\"Size of the visible component of the Milky Way:{:.3f} \".format(mwsize))"
   ]
  },
  {
   "cell_type": "markdown",
   "metadata": {
    "colab_type": "text",
    "id": "kF51xiENUyfc"
   },
   "source": [
    "**Since we are located inside the galactic disk of the Milky Way, there's no way to measure an apparent size to gives the diameter of the galaxy; therefore, we are using the information from Wikipedia about its diameter**"
   ]
  },
  {
   "cell_type": "code",
   "execution_count": 17,
   "metadata": {
    "colab": {
     "base_uri": "https://localhost:8080/",
     "height": 121
    },
    "colab_type": "code",
    "id": "qc3mczP-b6po",
    "outputId": "6d4c918d-a2d2-41c0-be6b-88f520ae97e6"
   },
   "outputs": [
    {
     "data": {
      "text/plain": [
       "r         63.198000\n",
       "v        177.979000\n",
       "dv        47.004000\n",
       "error     16.345000\n",
       "dr        33.381003\n",
       "Name: 48, dtype: float64"
      ]
     },
     "execution_count": 17,
     "metadata": {},
     "output_type": "execute_result"
    }
   ],
   "source": [
    "#use the getradii function for mw\n",
    "getradii(mw, mwsize, 2) "
   ]
  },
  {
   "cell_type": "code",
   "execution_count": 18,
   "metadata": {
    "colab": {
     "base_uri": "https://localhost:8080/",
     "height": 295
    },
    "colab_type": "code",
    "id": "di60geNpcC-2",
    "outputId": "01cc2007-c2c7-4a02-aca7-ab9bb6de6b61"
   },
   "outputs": [
    {
     "data": {
      "image/png": "[encoded data removed]",
      "text/plain": [
       "<Figure size 432x288 with 1 Axes>"
      ]
     },
     "metadata": {
      "needs_background": "light"
     },
     "output_type": "display_data"
    }
   ],
   "source": [
    "#plor for mw's values\n",
    "plotGal(mw,mwsize)"
   ]
  },
  {
   "cell_type": "code",
   "execution_count": 19,
   "metadata": {
    "colab": {
     "base_uri": "https://localhost:8080/",
     "height": 1000
    },
    "colab_type": "code",
    "id": "wOfynBdUcuco",
    "outputId": "a65b1f9a-104d-444d-99f8-938c9670c26a"
   },
   "outputs": [
    {
     "name": "stdout",
     "output_type": "stream",
     "text": [
      "N = 2\n",
      "using dv first:\n",
      "The expected ratio of the velocities is 0.6944, while the measured\n",
      "  velocity ratio is 0.7411. The $2\\sigma$ acceptable range for the actual\n",
      "  ratio (according to the measured ratio) is between 0.1355 and 1.3467.\n",
      "The predicted ratio does fall within the $2\\sigma$ confidence range.\n",
      "\n",
      "\n",
      "\n",
      "using 'error' now:\n",
      "The predicted ratio of the velocities is 0.6944, while the measured\n",
      "  velocity ratio is 0.7411. The $2\\sigma$ acceptable range for the actual\n",
      "  ratio (according to the measured ratio) is between 0.5551 and 0.9271.\n",
      "The predicted ratio does fall within the $2\\sigma$ confidence range.\n",
      "\n",
      "---\n",
      "\n",
      "N = 3\n",
      "using dv first:\n",
      "The expected ratio of the velocities is 0.5787, while the measured\n",
      "  velocity ratio is 0.7482. The $2\\sigma$ acceptable range for the actual\n",
      "  ratio (according to the measured ratio) is between 0.0487 and 1.4477.\n",
      "The predicted ratio does fall within the $2\\sigma$ confidence range.\n",
      "\n",
      "\n",
      "\n",
      "using 'error' now:\n",
      "The predicted ratio of the velocities is 0.5787, while the measured\n",
      "  velocity ratio is 0.7482. The $2\\sigma$ acceptable range for the actual\n",
      "  ratio (according to the measured ratio) is between 0.5321 and 0.9643.\n",
      "The predicted ratio does fall within the $2\\sigma$ confidence range.\n",
      "\n",
      "---\n",
      "\n",
      "N = 4\n",
      "using dv first:\n",
      "The expected ratio of the velocities is 0.5283, while the measured\n",
      "  velocity ratio is 0.6472. The $2\\sigma$ acceptable range for the actual\n",
      "  ratio (according to the measured ratio) is between -0.1113 and 1.4058.\n",
      "The predicted ratio does fall within the $2\\sigma$ confidence range.\n",
      "\n",
      "\n",
      "\n",
      "using 'error' now:\n",
      "The predicted ratio of the velocities is 0.5283, while the measured\n",
      "  velocity ratio is 0.6472. The $2\\sigma$ acceptable range for the actual\n",
      "  ratio (according to the measured ratio) is between 0.3852 and 0.9092.\n",
      "The predicted ratio does fall within the $2\\sigma$ confidence range.\n",
      "\n",
      "---\n",
      "\n",
      "N = 5\n",
      "using dv first:\n",
      "The expected ratio of the velocities is 0.4402, while the measured\n",
      "  velocity ratio is 0.4422. The $2\\sigma$ acceptable range for the actual\n",
      "  ratio (according to the measured ratio) is between -0.4344 and 1.3189.\n",
      "The predicted ratio does fall within the $2\\sigma$ confidence range.\n",
      "\n",
      "\n",
      "\n",
      "using 'error' now:\n",
      "The predicted ratio of the velocities is 0.4402, while the measured\n",
      "  velocity ratio is 0.4422. The $2\\sigma$ acceptable range for the actual\n",
      "  ratio (according to the measured ratio) is between -0.0399 and 0.9244.\n",
      "The predicted ratio does fall within the $2\\sigma$ confidence range.\n",
      "\n",
      "---\n",
      "\n",
      "N = 6\n",
      "using dv first:\n",
      "The expected ratio of the velocities is 0.4019, while the measured\n",
      "  velocity ratio is 0.5564. The $2\\sigma$ acceptable range for the actual\n",
      "  ratio (according to the measured ratio) is between -0.8615 and 1.9744.\n",
      "The predicted ratio does fall within the $2\\sigma$ confidence range.\n",
      "\n",
      "\n",
      "\n",
      "using 'error' now:\n",
      "The predicted ratio of the velocities is 0.4019, while the measured\n",
      "  velocity ratio is 0.5564. The $2\\sigma$ acceptable range for the actual\n",
      "  ratio (according to the measured ratio) is between -0.3470 and 1.4599.\n",
      "The predicted ratio does fall within the $2\\sigma$ confidence range.\n",
      "\n",
      "---\n",
      "\n"
     ]
    }
   ],
   "source": [
    "#use the vratios functio for n from 2 to 6\n",
    "for N in range(2,7):\n",
    "  print(\"N =\",N)\n",
    "  vratios(mw,mwsize,N)\n",
    "  print(\"\\n---\\n\")"
   ]
  },
  {
   "cell_type": "markdown",
   "metadata": {
    "colab_type": "text",
    "id": "yI7cYxx4MzLs"
   },
   "source": [
    "##Discussion:\n",
    "\n",
    "We no longer find this same statistically significant discrepancy for the Milky Way. This could be due to the fact that the distances and velocities are much harder to measure for the Milky Way, as there is a much higher concentration of visible matter obstructing the measurements.\n",
    "\n",
    "The predictions are not taking into account the uncertainty in the radius of the Milky Way, which could potentialy be another signifcant factor in our calculations. "
   ]
  }
 ],
 "metadata": {
  "colab": {
   "collapsed_sections": [
    "6me5k4c1OdDY"
   ],
   "include_colab_link": true,
   "name": "HW4 MWrotCurve.ipynb",
   "provenance": []
  },
  "kernelspec": {
   "display_name": "Python 3",
   "language": "python",
   "name": "python3"
  },
  "language_info": {
   "codemirror_mode": {
    "name": "ipython",
    "version": 3
   },
   "file_extension": ".py",
   "mimetype": "text/x-python",
   "name": "python",
   "nbconvert_exporter": "python",
   "pygments_lexer": "ipython3",
   "version": "3.6.8"
  },
  "nbTranslate": {
   "displayLangs": [
    "*"
   ],
   "hotkey": "alt-t",
   "langInMainMenu": true,
   "sourceLang": "en",
   "targetLang": "fr",
   "useGoogleTranslate": true
  },
  "toc": {
   "base_numbering": 1,
   "colors": {
    "hover_highlight": "#DAA520",
    "running_highlight": "#FF0000",
    "selected_highlight": "#FFD700"
   },
   "moveMenuLeft": true,
   "nav_menu": {},
   "navigate_menu": true,
   "number_sections": true,
   "sideBar": true,
   "skip_h1_title": false,
   "threshold": 4,
   "title_cell": "Table of Contents",
   "title_sidebar": "Contents",
   "toc_cell": false,
   "toc_position": {
    "height": "calc(100% - 180px)",
    "left": "10px",
    "top": "150px",
    "width": "165px"
   },
   "toc_section_display": true,
   "toc_window_display": true
  }
 },
 "nbformat": 4,
 "nbformat_minor": 1
}
