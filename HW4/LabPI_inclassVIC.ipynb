{
  "nbformat": 4,
  "nbformat_minor": 0,
  "metadata": {
    "colab": {
      "name": "LabPI_inclassVIC.ipynb",
      "provenance": [],
      "collapsed_sections": [],
      "include_colab_link": true
    },
    "kernelspec": {
      "name": "python3",
      "display_name": "Python 3"
    }
  },
  "cells": [
    {
      "cell_type": "markdown",
      "metadata": {
        "id": "view-in-github",
        "colab_type": "text"
      },
      "source": [
        "<a href=\"https://colab.research.google.com/github/vicaleram/DSPS_VRamirez/blob/master/HW4/LabPI_inclassVIC.ipynb\" target=\"_parent\"><img src=\"https://colab.research.google.com/assets/colab-badge.svg\" alt=\"Open In Colab\"/></a>"
      ]
    },
    {
      "cell_type": "code",
      "metadata": {
        "id": "mObTg_53-0M-",
        "colab_type": "code",
        "outputId": "3244a4e6-ec0d-44d1-c2f7-5c524edf5b68",
        "colab": {
          "base_uri": "https://localhost:8080/",
          "height": 87
        }
      },
      "source": [
        "import numpy as np\n",
        "import matplotlib.pyplot as plt\n",
        "%pylab inline\n",
        "\n",
        "def square(side):\n",
        "  ax = plt.figure(figsize=(5,5)).add_subplot(1,1,1)\n",
        "  plt.scatter(-side,-side)\n",
        "  plt.scatter(-side,side)\n",
        "  plt.scatter(side,-side)\n",
        "  plt.scatter(side,side)\n",
        "  plt.plot([-side,-side],[-side,side])\n",
        "  plt.plot([-side,side],[side,side])\n",
        "  plt.plot([side,-side],[-side,-side])\n",
        "  plt.plot([side,side],[side,-side])\n",
        "  \n",
        "  return ax\n"
      ],
      "execution_count": 10,
      "outputs": [
        {
          "output_type": "stream",
          "text": [
            "Populating the interactive namespace from numpy and matplotlib\n"
          ],
          "name": "stdout"
        },
        {
          "output_type": "stream",
          "text": [
            "/usr/local/lib/python3.6/dist-packages/IPython/core/magics/pylab.py:161: UserWarning: pylab import has clobbered these variables: ['square', 'axis']\n",
            "`%matplotlib` prevents importing * from pylab and numpy\n",
            "  \"\\n`%matplotlib` prevents importing * from pylab and numpy\"\n"
          ],
          "name": "stderr"
        }
      ]
    },
    {
      "cell_type": "code",
      "metadata": {
        "id": "nCEH7GZXCeem",
        "colab_type": "code",
        "outputId": "1b87d83c-9fec-4861-e39f-4e6a78e8d7b9",
        "colab": {
          "base_uri": "https://localhost:8080/",
          "height": 52
        }
      },
      "source": [
        "!pip install astropy"
      ],
      "execution_count": 11,
      "outputs": [
        {
          "output_type": "stream",
          "text": [
            "Requirement already satisfied: astropy in /usr/local/lib/python3.6/dist-packages (3.0.5)\n",
            "Requirement already satisfied: numpy>=1.10.0 in /usr/local/lib/python3.6/dist-packages (from astropy) (1.16.5)\n"
          ],
          "name": "stdout"
        }
      ]
    },
    {
      "cell_type": "code",
      "metadata": {
        "id": "YWNocmm7Bkv5",
        "colab_type": "code",
        "outputId": "43b5b440-5508-479a-dfe8-0b414cb0379f",
        "colab": {
          "base_uri": "https://localhost:8080/",
          "height": 269
        }
      },
      "source": [
        "from astropy import units as u\n",
        "\n",
        "def circle(radius,ax):\n",
        "  angle = np.arange(0,360,0.1)\n",
        "  angle *= u.degree\n",
        "  x = radius * np.cos(angle.to(u.rad))\n",
        "  y = radius * np.sin(angle.to(u.rad))\n",
        "  #print('x: ', x)\n",
        "  #print('y: ', y)\n",
        "  \n",
        "  ax.plot(x,y)\n",
        "  \n",
        "ax = plt.figure().add_subplot(1,1,1)\n"
      ],
      "execution_count": 12,
      "outputs": [
        {
          "output_type": "display_data",
          "data": {
            "image/png": "[encoded data removed]",
            "text/plain": [
              "<Figure size 432x288 with 1 Axes>"
            ]
          },
          "metadata": {
            "tags": []
          }
        }
      ]
    },
    {
      "cell_type": "code",
      "metadata": {
        "id": "ACfUGZY4EV0B",
        "colab_type": "code",
        "outputId": "a3fd35f9-41b6-4451-a340-02d880db1dde",
        "colab": {
          "base_uri": "https://localhost:8080/",
          "height": 358
        }
      },
      "source": [
        "axis =square(1)\n",
        "circle(1,axis)\n",
        "\n",
        "np.random.seed(300)\n",
        "num_x = 2 * np.random.rand(1000000) - 1\n",
        "num_y = 2 * np.random.rand(1000000) - 1\n",
        "\n",
        "axis.scatter(num_x,num_y)\n",
        "\n",
        "r = np.sqrt((num_x**2) + (num_y**2))\n",
        "#print(r)\n",
        "\n",
        "r_in = r[r < 1]\n",
        "\n",
        "print(len(r_in))\n",
        "print((4*len(r_in))/1000000)"
      ],
      "execution_count": 21,
      "outputs": [
        {
          "output_type": "stream",
          "text": [
            "785494\n",
            "3.141976\n"
          ],
          "name": "stdout"
        },
        {
          "output_type": "display_data",
          "data": {
            "image/png": "[encoded data removed]",
            "text/plain": [
              "<Figure size 360x360 with 1 Axes>"
            ]
          },
          "metadata": {
            "tags": []
          }
        }
      ]
    },
    {
      "cell_type": "code",
      "metadata": {
        "id": "F2-H0SX5RvAA",
        "colab_type": "code",
        "colab": {}
      },
      "source": [
        ""
      ],
      "execution_count": 0,
      "outputs": []
    }
  ]
}