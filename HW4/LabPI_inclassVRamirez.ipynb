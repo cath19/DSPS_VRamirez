{
  "nbformat": 4,
  "nbformat_minor": 0,
  "metadata": {
    "colab": {
      "name": "LabPI_inclassVRamirez.ipynb",
      "provenance": [],
      "collapsed_sections": [],
      "include_colab_link": true
    },
    "kernelspec": {
      "name": "python3",
      "display_name": "Python 3"
    }
  },
  "cells": [
    {
      "cell_type": "markdown",
      "metadata": {
        "id": "view-in-github",
        "colab_type": "text"
      },
      "source": [
        "<a href=\"https://colab.research.google.com/github/vicaleram/DSPS_VRamirez/blob/master/HW4/LabPI_inclassVRamirez.ipynb\" target=\"_parent\"><img src=\"https://colab.research.google.com/assets/colab-badge.svg\" alt=\"Open In Colab\"/></a>"
      ]
    },
    {
      "cell_type": "markdown",
      "metadata": {
        "id": "tQF-ltQVWxBC",
        "colab_type": "text"
      },
      "source": [
        "#Lab 3: Estimating Pi "
      ]
    },
    {
      "cell_type": "code",
      "metadata": {
        "id": "mObTg_53-0M-",
        "colab_type": "code",
        "outputId": "a6d69662-41d0-450c-d4c4-ed1af7ca35a9",
        "colab": {
          "base_uri": "https://localhost:8080/",
          "height": 87
        }
      },
      "source": [
        "import numpy as np\n",
        "import matplotlib.pyplot as plt\n",
        "%pylab inline\n",
        "\n",
        "def square(side):\n",
        "  ax = plt.figure(figsize=(5,5)).add_subplot(1,1,1)\n",
        "  plt.scatter(-side,-side)\n",
        "  plt.scatter(-side,side)\n",
        "  plt.scatter(side,-side)\n",
        "  plt.scatter(side,side)\n",
        "  plt.plot([-side,-side],[-side,side])\n",
        "  plt.plot([-side,side],[side,side])\n",
        "  plt.plot([side,-side],[-side,-side])\n",
        "  plt.plot([side,side],[side,-side])\n",
        "  \n",
        "  return ax\n"
      ],
      "execution_count": 36,
      "outputs": [
        {
          "output_type": "stream",
          "text": [
            "Populating the interactive namespace from numpy and matplotlib\n"
          ],
          "name": "stdout"
        },
        {
          "output_type": "stream",
          "text": [
            "/usr/local/lib/python3.6/dist-packages/IPython/core/magics/pylab.py:161: UserWarning: pylab import has clobbered these variables: ['square', 'axis']\n",
            "`%matplotlib` prevents importing * from pylab and numpy\n",
            "  \"\\n`%matplotlib` prevents importing * from pylab and numpy\"\n"
          ],
          "name": "stderr"
        }
      ]
    },
    {
      "cell_type": "code",
      "metadata": {
        "id": "nCEH7GZXCeem",
        "colab_type": "code",
        "outputId": "345157df-c495-4b8e-9159-dbd609134ec7",
        "colab": {
          "base_uri": "https://localhost:8080/",
          "height": 52
        }
      },
      "source": [
        "!pip install astropy"
      ],
      "execution_count": 37,
      "outputs": [
        {
          "output_type": "stream",
          "text": [
            "Requirement already satisfied: astropy in /usr/local/lib/python3.6/dist-packages (3.0.5)\n",
            "Requirement already satisfied: numpy>=1.10.0 in /usr/local/lib/python3.6/dist-packages (from astropy) (1.16.5)\n"
          ],
          "name": "stdout"
        }
      ]
    },
    {
      "cell_type": "code",
      "metadata": {
        "id": "YWNocmm7Bkv5",
        "colab_type": "code",
        "outputId": "0d4d3cb8-073b-44b4-c178-6e53b944ece8",
        "colab": {
          "base_uri": "https://localhost:8080/",
          "height": 269
        }
      },
      "source": [
        "from astropy import units as u\n",
        "\n",
        "def circle(radius,ax):\n",
        "  angle = np.arange(0,360,0.1)\n",
        "  angle *= u.degree\n",
        "  x = radius * np.cos(angle.to(u.rad))\n",
        "  y = radius * np.sin(angle.to(u.rad))\n",
        "  #print('x: ', x)\n",
        "  #print('y: ', y)\n",
        "  \n",
        "  ax.plot(x,y)\n",
        "  \n",
        "ax = plt.figure().add_subplot(1,1,1)\n"
      ],
      "execution_count": 38,
      "outputs": [
        {
          "output_type": "display_data",
          "data": {
            "image/png": "[encoded data removed]",
            "text/plain": [
              "<Figure size 432x288 with 1 Axes>"
            ]
          },
          "metadata": {
            "tags": []
          }
        }
      ]
    },
    {
      "cell_type": "code",
      "metadata": {
        "id": "ACfUGZY4EV0B",
        "colab_type": "code",
        "outputId": "63b20951-0f2f-4198-a50e-a30db7b4ce61",
        "colab": {
          "base_uri": "https://localhost:8080/",
          "height": 358
        }
      },
      "source": [
        "axis =square(1)\n",
        "circle(1,axis)\n",
        "\n",
        "np.random.seed(300)\n",
        "num_x = 2 * np.random.rand(10000) - 1\n",
        "num_y = 2 * np.random.rand(10000) - 1\n",
        "\n",
        "axis.scatter(num_x,num_y,marker=',')\n",
        "\n",
        "r = np.sqrt((num_x**2) + (num_y**2))\n",
        "#print(r)\n",
        "\n",
        "r_in = r[r < 1]\n",
        "\n",
        "print(len(r_in))\n",
        "print('The approximate value of Pi:',(4*len(r_in))/10000)"
      ],
      "execution_count": 39,
      "outputs": [
        {
          "output_type": "stream",
          "text": [
            "7840\n",
            "The approximate value of Pi: 3.136\n"
          ],
          "name": "stdout"
        },
        {
          "output_type": "display_data",
          "data": {
            "image/png": "[encoded data removed]",
            "text/plain": [
              "<Figure size 360x360 with 1 Axes>"
            ]
          },
          "metadata": {
            "tags": []
          }
        }
      ]
    }
  ]
}